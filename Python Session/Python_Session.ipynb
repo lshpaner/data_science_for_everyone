{
 "cells": [
  {
   "cell_type": "markdown",
   "metadata": {},
   "source": [
    "## Python Introductory Workshop by University of San Diego (USD)  \n",
    "**Leonid Shpaner**  \n",
    "**January 21, 2022**"
   ]
  },
  {
   "cell_type": "markdown",
   "metadata": {},
   "source": [
    "Whereas JupyterLab and Jupyter Notebook are the two most commonly used interactive computing platforms warehoused within the Anaconda distribution, data scientists can also leverage the cloud-based coding environment of Google Colab.\n",
    "\n",
    "[https://colab.research.google.com/?utm_source=scs-index](https://colab.research.google.com/?utm_source=scs-index)\n"
   ]
  },
  {
   "cell_type": "markdown",
   "metadata": {},
   "source": [
    "## JupyterLab Basics\n",
    "[https://jupyterlab.readthedocs.io/en/stable/user/interface.html](https://jupyterlab.readthedocs.io/en/stable/user/interface.html)"
   ]
  },
  {
   "cell_type": "markdown",
   "metadata": {},
   "source": [
    "## Cells"
   ]
  },
  {
   "cell_type": "code",
   "execution_count": 1,
   "metadata": {},
   "outputs": [
    {
     "name": "stdout",
     "output_type": "stream",
     "text": [
      "1\n",
      "2\n",
      "3\n"
     ]
    }
   ],
   "source": [
    "# This is a code cell/block!\n",
    "\n",
    "# basic for loop\n",
    "for x in [1,2,3]:\n",
    "    print(x)"
   ]
  },
  {
   "cell_type": "markdown",
   "metadata": {},
   "source": [
    "This is a markdown cell!  \n",
    "### Level 3 Heading  \n",
    "*italics characters are surrounded by one asterisk*  \n",
    "**bold characters are surrounded by two asterisks**  \n",
    "* one asterisk in front of an item of text can serve as a bullet point.  \n",
    "* to move the text to the next line, ensure to enter two spaces after the line.   \n",
    "    1. Simply number the items on a list using normal numering schema.  \n",
    "    2. If you have numbers in the same markdown cell as bullet points (i.e., below),\n",
    "    3. skip 4 spaces after the last bullet point and then begin numbering.\n",
    "\n",
    "Here's a guide for syntax: https://www.markdownguide.org/basic-syntax/"
   ]
  },
  {
   "cell_type": "markdown",
   "metadata": {},
   "source": [
    "## Python Basics"
   ]
  },
  {
   "cell_type": "markdown",
   "metadata": {},
   "source": [
    "We can use a code cell to conduct basic math operations as follows."
   ]
  },
  {
   "cell_type": "code",
   "execution_count": 2,
   "metadata": {},
   "outputs": [
    {
     "data": {
      "text/plain": [
       "4"
      ]
     },
     "execution_count": 2,
     "metadata": {},
     "output_type": "execute_result"
    }
   ],
   "source": [
    "2+2"
   ]
  },
  {
   "cell_type": "markdown",
   "metadata": {},
   "source": [
    "Order of operations in Python is just as important."
   ]
  },
  {
   "cell_type": "code",
   "execution_count": 3,
   "metadata": {},
   "outputs": [
    {
     "data": {
      "text/plain": [
       "False"
      ]
     },
     "execution_count": 3,
     "metadata": {},
     "output_type": "execute_result"
    }
   ],
   "source": [
    "1+3*10 == (1+3)*10"
   ]
  },
  {
   "cell_type": "markdown",
   "metadata": {},
   "source": [
    "For more basic operations including but not limited to taking the square root, log, and generally more advanced mathematical operations, we will have to import our first library (math) as follows:"
   ]
  },
  {
   "cell_type": "code",
   "execution_count": 4,
   "metadata": {},
   "outputs": [],
   "source": [
    "import math"
   ]
  },
  {
   "cell_type": "markdown",
   "metadata": {},
   "source": [
    "However, if we run two consecutive lines below without assigning to a variable or parsing in a print statement ahead of the function calls, only the latest (last) function will print the output of what is in the cell block."
   ]
  },
  {
   "cell_type": "code",
   "execution_count": 5,
   "metadata": {},
   "outputs": [
    {
     "data": {
      "text/plain": [
       "3628800"
      ]
     },
     "execution_count": 5,
     "metadata": {},
     "output_type": "execute_result"
    }
   ],
   "source": [
    "math.sqrt(9)\n",
    "math.log10(100)\n",
    "math.factorial(10)"
   ]
  },
  {
   "cell_type": "markdown",
   "metadata": {},
   "source": [
    "Let us try this again, by adding `print()` statements in front of the three functions, respectively."
   ]
  },
  {
   "cell_type": "code",
   "execution_count": 6,
   "metadata": {},
   "outputs": [
    {
     "name": "stdout",
     "output_type": "stream",
     "text": [
      "3.0\n",
      "2.0\n",
      "3628800\n"
     ]
    }
   ],
   "source": [
    "# print the output on multiple lines\n",
    "print(math.sqrt(9))\n",
    "print(math.log10(100))\n",
    "print(math.factorial(10))"
   ]
  },
  {
   "cell_type": "markdown",
   "metadata": {},
   "source": [
    "## What is a string?\n",
    "\n",
    "A string is simply any open alpha/alphanumeric text characters surrounded by either single quotation marks or double quotation marks, with no preference assigned for either single or double quotation marks, with a print statement being called prior to the strings. For example,\n"
   ]
  },
  {
   "cell_type": "code",
   "execution_count": 7,
   "metadata": {},
   "outputs": [
    {
     "name": "stdout",
     "output_type": "stream",
     "text": [
      "This is a string.\n",
      "This is also a string123.\n"
     ]
    }
   ],
   "source": [
    "print('This is a string.')\n",
    "print( \"This is also a string123.\")"
   ]
  },
  {
   "cell_type": "markdown",
   "metadata": {},
   "source": [
    "Strings in Python are arrays of bytes that represent \"Unicode characters\" (GeeksforGeeks, 2021)."
   ]
  },
  {
   "cell_type": "markdown",
   "metadata": {},
   "source": [
    "## Creating Objects"
   ]
  },
  {
   "cell_type": "markdown",
   "metadata": {},
   "source": [
    "Unlike R, Python uses the '=' symbol for making assignment statements. we can `print()` what is contained in the assignment or just call the assignment to the string as follows:"
   ]
  },
  {
   "cell_type": "code",
   "execution_count": 8,
   "metadata": {},
   "outputs": [
    {
     "data": {
      "text/plain": [
       "'pepper jack'"
      ]
     },
     "execution_count": 8,
     "metadata": {},
     "output_type": "execute_result"
    }
   ],
   "source": [
    "cheese = 'pepper jack'\n",
    "cheese "
   ]
  },
  {
   "cell_type": "markdown",
   "metadata": {},
   "source": [
    "## Determining and Setting the Current Working Directory"
   ]
  },
  {
   "cell_type": "markdown",
   "metadata": {},
   "source": [
    "The importance of determining and setting the working directory cannot be stressed enough. \n",
    "  1. Run `import os` to import operating system module. \n",
    "  2. then assign `os.getcwd()` to `cwd`.\n",
    "  3. You may choose to print the working directory using the print function as shown below.\n",
    "  4. Or change the working directory by running `os.chdir('')`.\n"
   ]
  },
  {
   "cell_type": "code",
   "execution_count": 9,
   "metadata": {},
   "outputs": [
    {
     "name": "stdout",
     "output_type": "stream",
     "text": [
      "Current working directory: C:\\Users\\lshpaner\\Desktop\\Accidents Dataset\\Github Repository\\dse\\Python Session\n",
      "Current working directory: C:\\Users\\lshpaner\\Desktop\\Accidents Dataset\\Github Repository\\dse\\Python Session\n"
     ]
    }
   ],
   "source": [
    "import os # import the operating system module\n",
    "cwd = os.getcwd()\n",
    "# Print the current working directory\n",
    "print(\"Current working directory: {0}\".format(cwd))\n",
    "\n",
    "# Change the current working directory\n",
    "# os.chdir('')\n",
    "\n",
    "# Print the current working directory\n",
    "print(\"Current working directory: {0}\".format(os.getcwd()))"
   ]
  },
  {
   "cell_type": "markdown",
   "metadata": {},
   "source": [
    "## Installing Libraries"
   ]
  },
  {
   "cell_type": "markdown",
   "metadata": {},
   "source": [
    "To install most common libraries, simply type in the command `pip install` `followed by library name` into an empty code cell and run it."
   ]
  },
  {
   "cell_type": "code",
   "execution_count": 10,
   "metadata": {},
   "outputs": [],
   "source": [
    "# pip install pandas "
   ]
  },
  {
   "cell_type": "markdown",
   "metadata": {},
   "source": [
    "## Loading Libraries"
   ]
  },
  {
   "cell_type": "markdown",
   "metadata": {},
   "source": [
    "For data science applications, we most commonly use [pandas](https://pandas.pydata.org/pandas-docs/stable/) for \"data structures and data analysis tools\" (Pandas, 2021) and [NumPy](https://numpy.org/) for \"scientific computing with Python\" (Numpy.org, n.d.). \n",
    "\n",
    "Ideally, at the beginning of a project, we will create an empty cell block that loads all of the libraries that we will be using. However, as we progress throughout this tutorial, we will load the necessary libraries separately.\n",
    "\n",
    "Let us now load these two libraries into an empty code cell block using `import` `name of the library` `as` `abbreviated form`."
   ]
  },
  {
   "cell_type": "code",
   "execution_count": 11,
   "metadata": {},
   "outputs": [],
   "source": [
    "import pandas as pd\n",
    "import numpy as np"
   ]
  },
  {
   "cell_type": "markdown",
   "metadata": {},
   "source": [
    "Sometimes, `Python` throws warning messages in pink on the output of code cell blocks that otherwise run correctly.  "
   ]
  },
  {
   "cell_type": "code",
   "execution_count": 12,
   "metadata": {},
   "outputs": [
    {
     "name": "stderr",
     "output_type": "stream",
     "text": [
      "<ipython-input-12-300454090b32>:2: UserWarning: This is an example warning message.\n",
      "  warnings.warn('This is an example warning message.') # displaying warning\n"
     ]
    }
   ],
   "source": [
    "import warnings\n",
    "warnings.warn('This is an example warning message.') # displaying warning\n"
   ]
  },
  {
   "cell_type": "markdown",
   "metadata": {},
   "source": [
    "Sometimes, it is helpful to see what these warnings are saying as added layers of de-bugging. However, they may also create unsightly output. For this reason, we will suppress any and all warning messages for the remainder of this tutorial.  \n",
    "\n",
    "To disable/suppress warning messages, let us write the following:\n"
   ]
  },
  {
   "cell_type": "code",
   "execution_count": 13,
   "metadata": {},
   "outputs": [],
   "source": [
    "import warnings\n",
    "warnings.filterwarnings(\"ignore\")"
   ]
  },
  {
   "cell_type": "markdown",
   "metadata": {},
   "source": [
    "## Data Types"
   ]
  },
  {
   "cell_type": "markdown",
   "metadata": {},
   "source": [
    "Text Type (string): `str`  \n",
    "Numeric Types:      `int`, `float`, `complex`  \n",
    "Sequence Types:\t    `list`, `tuple`, `range`  \n",
    "Mapping Type:\t    `dict` - dictionary (used to store key:value pairs)  \n",
    "Logical:\t        `bool` - boolean  (True or False)   \n",
    "Binary Types:\t    `bytes`, `bytearray`, `memoryview`  "
   ]
  },
  {
   "cell_type": "markdown",
   "metadata": {},
   "source": [
    "Let us convert an integer to a string. We do this using the `str()` function. Recall, how in R, this same function call is designated for something completely different - inspecting the structure of the dataframe.\n",
    "\n",
    "We can also examine `floats` and `bools` as follows:"
   ]
  },
  {
   "cell_type": "code",
   "execution_count": 14,
   "metadata": {},
   "outputs": [
    {
     "name": "stdout",
     "output_type": "stream",
     "text": [
      "Integer: 2356\n",
      "Float: 2356.0\n",
      "String: 2356\n",
      "True\n",
      "False\n"
     ]
    }
   ],
   "source": [
    "# assign the variable to an int\n",
    "int_numb  = 2356\n",
    "print('Integer:', int_numb)\n",
    "\n",
    "# assign the variable to a float\n",
    "float_number = 2356.0\n",
    "print('Float:', float_number)\n",
    "\n",
    "# convert the variable to a string\n",
    "str_numb = str(int_numb)\n",
    "print('String:',str_numb)\n",
    "\n",
    "# convert variable from float to int\n",
    "int_number = int(float_number)\n",
    "\n",
    "# boolean\n",
    "bool1 = 2356 > 235\n",
    "bool2 = 2356 == 235\n",
    "print(bool1)\n",
    "print(bool2)"
   ]
  },
  {
   "cell_type": "markdown",
   "metadata": {},
   "source": [
    "## Data Structures \n",
    "\n",
    "**What is a variable?**\n",
    "A variable is a container for storing a data value, exhibited as a reference to \"to an object in memory which means that whenever a variable is assigned to an instance, it gets mapped to that instance. A variable in R can store a vector, a group of vectors or a combination of many R objects\" (GeeksforGeeks, 2020). \n",
    "\n",
    "There are 3 most important data structures in Python: vector, matrix, and dataframe.  \n",
    "\n",
    "**Vector**:  the most basic type of data structure within R; contains a series of values of the same data class. It is a \"sequence of data elements\" (Thakur, 2018). \n",
    "\n",
    "**Matrix**: a 2-dimensional version of a vector. Instead of only having a single row/list of data, we have rows and columns of data of the same data class.\n",
    "\n",
    "**Dataframe**: the most important data structure for data science. Think of dataframe as loads of vectors pasted together as columns. Columns in a dataframe can be of different data class, but values within the same column must be the same data class.\n",
    "\n"
   ]
  },
  {
   "cell_type": "markdown",
   "metadata": {},
   "source": [
    "## Creating Objects"
   ]
  },
  {
   "cell_type": "markdown",
   "metadata": {},
   "source": [
    "We can make a one-dimensional horizontal list as follows:"
   ]
  },
  {
   "cell_type": "code",
   "execution_count": 15,
   "metadata": {},
   "outputs": [
    {
     "data": {
      "text/plain": [
       "[0, 1, 2, 3]"
      ]
     },
     "execution_count": 15,
     "metadata": {},
     "output_type": "execute_result"
    }
   ],
   "source": [
    "list1 = [0, 1, 2, 3]\n",
    "list1"
   ]
  },
  {
   "cell_type": "markdown",
   "metadata": {},
   "source": [
    "or a one-dimensional vertical list as follows:"
   ]
  },
  {
   "cell_type": "code",
   "execution_count": 16,
   "metadata": {},
   "outputs": [
    {
     "data": {
      "text/plain": [
       "[[1], [2], [3], [4]]"
      ]
     },
     "execution_count": 16,
     "metadata": {},
     "output_type": "execute_result"
    }
   ],
   "source": [
    "list2 = [[1],\n",
    "         [2],\n",
    "         [3],\n",
    "         [4]]\n",
    "list2"
   ]
  },
  {
   "cell_type": "markdown",
   "metadata": {},
   "source": [
    "## Vectors and Their Operations\n",
    "Now, to vectorize these lists, we simply assign it to the `np.array()` function call:"
   ]
  },
  {
   "cell_type": "code",
   "execution_count": 17,
   "metadata": {},
   "outputs": [
    {
     "name": "stdout",
     "output_type": "stream",
     "text": [
      "[0 1 2 3]\n",
      "\n",
      "\n",
      "[[1]\n",
      " [2]\n",
      " [3]\n",
      " [4]]\n"
     ]
    }
   ],
   "source": [
    "vector1 = np.array(list1)\n",
    "print(vector1)\n",
    "print('\\n') # for printing an empty new line \n",
    "            # between outputs\n",
    "vector2 = np.array(list2)\n",
    "print(vector2)"
   ]
  },
  {
   "cell_type": "markdown",
   "metadata": {},
   "source": [
    "Running the following basic between vector arithmetic operations (addition, subtraction, and division, respectively) changes the resulting data structures from one-dimensional arrays to two-dimensional matrices. "
   ]
  },
  {
   "cell_type": "code",
   "execution_count": 18,
   "metadata": {},
   "outputs": [
    {
     "name": "stdout",
     "output_type": "stream",
     "text": [
      "Vector Addition:  \n",
      " [[1 2 3 4]\n",
      " [2 3 4 5]\n",
      " [3 4 5 6]\n",
      " [4 5 6 7]] \n",
      "\n",
      "Vector Subtraction: \n",
      " [[-1  0  1  2]\n",
      " [-2 -1  0  1]\n",
      " [-3 -2 -1  0]\n",
      " [-4 -3 -2 -1]] \n",
      "\n",
      "Vector Multiplication: \n",
      " [[ 0  1  2  3]\n",
      " [ 0  2  4  6]\n",
      " [ 0  3  6  9]\n",
      " [ 0  4  8 12]] \n",
      "\n",
      "Vector Division: \n",
      " [[0.         1.         2.         3.        ]\n",
      " [0.         0.5        1.         1.5       ]\n",
      " [0.         0.33333333 0.66666667 1.        ]\n",
      " [0.         0.25       0.5        0.75      ]]\n"
     ]
    }
   ],
   "source": [
    "# adding vector 1 and vector 2\n",
    "addition = vector1 + vector2\n",
    "\n",
    "# subtracting vector 1 and vector 2\n",
    "subtraction = vector1 - vector2\n",
    "\n",
    "# multiplying vector 1 and vector 2\n",
    "multiplication = vector1 * vector2\n",
    "\n",
    "# divifing vector 1 by vector 2\n",
    "division = vector1 / vector2\n",
    "\n",
    "# Now let's print the results of these operations\n",
    "print('Vector Addition: ', '\\n', addition, '\\n')\n",
    "print('Vector Subtraction:', '\\n', subtraction, '\\n')\n",
    "print('Vector Multiplication:', '\\n', multiplication, '\\n')\n",
    "print('Vector Division:', '\\n', division)"
   ]
  },
  {
   "cell_type": "markdown",
   "metadata": {},
   "source": [
    "Similarly, a vector of logical strings will contain"
   ]
  },
  {
   "cell_type": "code",
   "execution_count": 19,
   "metadata": {},
   "outputs": [
    {
     "data": {
      "text/plain": [
       "array([ True, False,  True, False,  True])"
      ]
     },
     "execution_count": 19,
     "metadata": {},
     "output_type": "execute_result"
    }
   ],
   "source": [
    "vector3 = np.array([True, False, True, False, True])\n",
    "vector3"
   ]
  },
  {
   "cell_type": "markdown",
   "metadata": {},
   "source": [
    "Whereas in R, we use the `length()` function to measure the length of an object (i.e., vector, variable, or dataframe), we apply the `len()` function in `Python` to determine the number of members inside this object."
   ]
  },
  {
   "cell_type": "code",
   "execution_count": 20,
   "metadata": {},
   "outputs": [
    {
     "data": {
      "text/plain": [
       "5"
      ]
     },
     "execution_count": 20,
     "metadata": {},
     "output_type": "execute_result"
    }
   ],
   "source": [
    "len(vector3)"
   ]
  },
  {
   "cell_type": "markdown",
   "metadata": {},
   "source": [
    "Let us say for example, that we want to access the third element of `vector1` from what we defined above. In this case, the syntax is the same as in R. We can do so as follows:"
   ]
  },
  {
   "cell_type": "code",
   "execution_count": 21,
   "metadata": {},
   "outputs": [
    {
     "data": {
      "text/plain": [
       "3"
      ]
     },
     "execution_count": 21,
     "metadata": {},
     "output_type": "execute_result"
    }
   ],
   "source": [
    "vector1[3]"
   ]
  },
  {
   "cell_type": "markdown",
   "metadata": {},
   "source": [
    "Let us now say we want to access the first, fifth, and ninth elements of this dataframe. To this end, we do the following:"
   ]
  },
  {
   "cell_type": "code",
   "execution_count": 22,
   "metadata": {},
   "outputs": [
    {
     "data": {
      "text/plain": [
       "(3, 20, 35)"
      ]
     },
     "execution_count": 22,
     "metadata": {},
     "output_type": "execute_result"
    }
   ],
   "source": [
    "vector4 = np.array([1,3,5,7,9,20,2,8,10,35,76,89,207])\n",
    "vector4_index = vector4[1], vector4[5], vector4[9]\n",
    "vector4_index"
   ]
  },
  {
   "cell_type": "markdown",
   "metadata": {},
   "source": [
    "What if we wish to access the third element on the first row of this matrix?"
   ]
  },
  {
   "cell_type": "code",
   "execution_count": 23,
   "metadata": {},
   "outputs": [
    {
     "name": "stdout",
     "output_type": "stream",
     "text": [
      "[[ 1  2  3  4  5]\n",
      " [ 6  7  8  9 10]\n",
      " [11 12 13 14 15]]\n",
      "\n",
      " 3rd element on 1st row: 3\n"
     ]
    }
   ],
   "source": [
    "# create (define) new matrix\n",
    "matrix1 = np.array([[1,2,3,4,5], [6,7,8,9,10], \n",
    "                [11,12,13,14,15]])\n",
    "print(matrix1)\n",
    "\n",
    "print('\\n','3rd element on 1st row:', matrix1[0,2])"
   ]
  },
  {
   "cell_type": "markdown",
   "metadata": {},
   "source": [
    "## Counting Numbers and Accessing Elements in Python\n",
    "\n",
    "Whereas it would make sense to start counting items in an array with the number `1` like we do in R, this is not true in Python. We `ALWAYS` start counting items with the number `0` as the first number of any given array in Python."
   ]
  },
  {
   "cell_type": "markdown",
   "metadata": {},
   "source": [
    "What if we want to access certain elements within the dataframe? For example:"
   ]
  },
  {
   "cell_type": "code",
   "execution_count": 24,
   "metadata": {},
   "outputs": [
    {
     "name": "stdout",
     "output_type": "stream",
     "text": [
      "4\n",
      "[0 1 2 3]\n",
      "[0 1 2]\n"
     ]
    }
   ],
   "source": [
    "# find the length of vector 1\n",
    "print(len(vector1))\n",
    "\n",
    "# get all elements\n",
    "print(vector1[0:4])\n",
    "\n",
    "# get all elements except last one\n",
    "print(vector1[0:3])"
   ]
  },
  {
   "cell_type": "markdown",
   "metadata": {},
   "source": [
    "## Mock Dataframe Examples"
   ]
  },
  {
   "cell_type": "markdown",
   "metadata": {},
   "source": [
    "Unlike R, creating a dataframe in Python involves a little bit more work. For example, we will be using the pandas library to create what is called a pandas dataframe using the `pd.DataFrame()` function and map our variables to a dictionary. Like we previously discussed, a dictionary is used to index key:value pairs and to store these mapped values. Dictionaries are always started (created) using the `{` symbol, followed by the `name` in `quotation marks`, a `:`, and an opening `[`. They are ended using the opposite closing symbols.\n",
    "\n",
    "Let us create a mock dataframe for five fictitious individuals representing different ages, and departments at a research facility."
   ]
  },
  {
   "cell_type": "code",
   "execution_count": 25,
   "metadata": {},
   "outputs": [
    {
     "data": {
      "text/html": [
       "<div>\n",
       "<style scoped>\n",
       "    .dataframe tbody tr th:only-of-type {\n",
       "        vertical-align: middle;\n",
       "    }\n",
       "\n",
       "    .dataframe tbody tr th {\n",
       "        vertical-align: top;\n",
       "    }\n",
       "\n",
       "    .dataframe thead th {\n",
       "        text-align: right;\n",
       "    }\n",
       "</style>\n",
       "<table border=\"1\" class=\"dataframe\">\n",
       "  <thead>\n",
       "    <tr style=\"text-align: right;\">\n",
       "      <th></th>\n",
       "      <th>Name</th>\n",
       "      <th>Age</th>\n",
       "      <th>Experience</th>\n",
       "      <th>Position</th>\n",
       "    </tr>\n",
       "  </thead>\n",
       "  <tbody>\n",
       "    <tr>\n",
       "      <th>0</th>\n",
       "      <td>Jack</td>\n",
       "      <td>47</td>\n",
       "      <td>7</td>\n",
       "      <td>Economist</td>\n",
       "    </tr>\n",
       "    <tr>\n",
       "      <th>1</th>\n",
       "      <td>Kathy</td>\n",
       "      <td>41</td>\n",
       "      <td>5</td>\n",
       "      <td>Director of Operations</td>\n",
       "    </tr>\n",
       "    <tr>\n",
       "      <th>2</th>\n",
       "      <td>Latesha</td>\n",
       "      <td>23</td>\n",
       "      <td>9</td>\n",
       "      <td>Human Resources</td>\n",
       "    </tr>\n",
       "    <tr>\n",
       "      <th>3</th>\n",
       "      <td>Brandon</td>\n",
       "      <td>55</td>\n",
       "      <td>3</td>\n",
       "      <td>Admin. Assistant</td>\n",
       "    </tr>\n",
       "    <tr>\n",
       "      <th>4</th>\n",
       "      <td>Alexa</td>\n",
       "      <td>36</td>\n",
       "      <td>11</td>\n",
       "      <td>Data Scientist</td>\n",
       "    </tr>\n",
       "    <tr>\n",
       "      <th>5</th>\n",
       "      <td>Jonathan</td>\n",
       "      <td>54</td>\n",
       "      <td>6</td>\n",
       "      <td>Admin. Assistant</td>\n",
       "    </tr>\n",
       "    <tr>\n",
       "      <th>6</th>\n",
       "      <td>Joshua</td>\n",
       "      <td>48</td>\n",
       "      <td>8</td>\n",
       "      <td>Account Manager</td>\n",
       "    </tr>\n",
       "    <tr>\n",
       "      <th>7</th>\n",
       "      <td>Emily</td>\n",
       "      <td>23</td>\n",
       "      <td>9</td>\n",
       "      <td>Account Manager</td>\n",
       "    </tr>\n",
       "    <tr>\n",
       "      <th>8</th>\n",
       "      <td>Matthew</td>\n",
       "      <td>22</td>\n",
       "      <td>5</td>\n",
       "      <td>Attorney</td>\n",
       "    </tr>\n",
       "    <tr>\n",
       "      <th>9</th>\n",
       "      <td>Anthony</td>\n",
       "      <td>27</td>\n",
       "      <td>2</td>\n",
       "      <td>Paralegal</td>\n",
       "    </tr>\n",
       "    <tr>\n",
       "      <th>10</th>\n",
       "      <td>Margaret</td>\n",
       "      <td>37</td>\n",
       "      <td>1</td>\n",
       "      <td>Data Analyst</td>\n",
       "    </tr>\n",
       "    <tr>\n",
       "      <th>11</th>\n",
       "      <td>Natalie</td>\n",
       "      <td>43</td>\n",
       "      <td>4</td>\n",
       "      <td>Research Assistant</td>\n",
       "    </tr>\n",
       "  </tbody>\n",
       "</table>\n",
       "</div>"
      ],
      "text/plain": [
       "        Name  Age  Experience                Position\n",
       "0       Jack   47           7               Economist\n",
       "1      Kathy   41           5  Director of Operations\n",
       "2    Latesha   23           9         Human Resources\n",
       "3    Brandon   55           3        Admin. Assistant\n",
       "4      Alexa   36          11          Data Scientist\n",
       "5   Jonathan   54           6        Admin. Assistant\n",
       "6     Joshua   48           8         Account Manager\n",
       "7      Emily   23           9         Account Manager\n",
       "8    Matthew   22           5                Attorney\n",
       "9    Anthony   27           2               Paralegal\n",
       "10  Margaret   37           1            Data Analyst\n",
       "11   Natalie   43           4      Research Assistant"
      ]
     },
     "execution_count": 25,
     "metadata": {},
     "output_type": "execute_result"
    }
   ],
   "source": [
    "df = pd.DataFrame({'Name': ['Jack', 'Kathy', 'Latesha', \n",
    "                    'Brandon', 'Alexa', \n",
    "                    'Jonathan', 'Joshua', 'Emily', \n",
    "                    'Matthew', 'Anthony', 'Margaret', \n",
    "                    'Natalie'],\n",
    "                   \n",
    "                   'Age':[47, 41, 23, 55, 36, 54, 48, \n",
    "                          23, 22, 27, 37, 43],\n",
    "                   \n",
    "                   'Experience':[7,5,9,3,11,6,8,9,5,2,1,4],\n",
    "                   'Position': ['Economist', \n",
    "                    'Director of Operations', \n",
    "                    'Human Resources', 'Admin. Assistant', \n",
    "                    'Data Scientist', 'Admin. Assistant', \n",
    "                    'Account Manager', 'Account Manager', \n",
    "                    'Attorney', 'Paralegal','Data Analyst', \n",
    "                    'Research Assistant']})\n",
    "df"
   ]
  },
  {
   "cell_type": "markdown",
   "metadata": {},
   "source": [
    "## Examining the Structure of a Dataframe\n",
    "\n",
    "Let us examine the structure of the dataframe. Once again, recall that whereas in R we would use `str()` to look at the structure of a dataframe, in Python, `str()` refers to string. Thus, we will use the `df.dtypes`, `df.info()`, `len(df)`, and `df.shape` operations/functions, respectively to examine the dataframe's structure."
   ]
  },
  {
   "cell_type": "code",
   "execution_count": 26,
   "metadata": {},
   "outputs": [
    {
     "name": "stdout",
     "output_type": "stream",
     "text": [
      "Name          object\n",
      "Age            int64\n",
      "Experience     int64\n",
      "Position      object\n",
      "dtype: object \n",
      "\n",
      "<class 'pandas.core.frame.DataFrame'>\n",
      "RangeIndex: 12 entries, 0 to 11\n",
      "Data columns (total 4 columns):\n",
      " #   Column      Non-Null Count  Dtype \n",
      "---  ------      --------------  ----- \n",
      " 0   Name        12 non-null     object\n",
      " 1   Age         12 non-null     int64 \n",
      " 2   Experience  12 non-null     int64 \n",
      " 3   Position    12 non-null     object\n",
      "dtypes: int64(2), object(2)\n",
      "memory usage: 512.0+ bytes\n",
      "None \n",
      "\n",
      "Length of Dataframe: 12 \n",
      "\n",
      "Number of Rows: 12\n",
      "Number of Columns: 4\n"
     ]
    }
   ],
   "source": [
    "print(df.dtypes, '\\n') # data types\n",
    "print(df.info(), '\\n') # more info on dataframe\n",
    "\n",
    "# print length of df (rows)\n",
    "print('Length of Dataframe:', len(df),\n",
    "      '\\n')\n",
    "\n",
    "# number of rows of dataframe\n",
    "print('Number of Rows:', df.shape[0])\n",
    "\n",
    "# number of columns of dataframe\n",
    "print('Number of Columns:', df.shape[1])"
   ]
  },
  {
   "cell_type": "markdown",
   "metadata": {},
   "source": [
    "## Sorting Data\n",
    "\n",
    "Let us say that now we want to sort this dataframe in order of age (youngest to oldest)."
   ]
  },
  {
   "cell_type": "code",
   "execution_count": 27,
   "metadata": {},
   "outputs": [
    {
     "data": {
      "text/html": [
       "<div>\n",
       "<style scoped>\n",
       "    .dataframe tbody tr th:only-of-type {\n",
       "        vertical-align: middle;\n",
       "    }\n",
       "\n",
       "    .dataframe tbody tr th {\n",
       "        vertical-align: top;\n",
       "    }\n",
       "\n",
       "    .dataframe thead th {\n",
       "        text-align: right;\n",
       "    }\n",
       "</style>\n",
       "<table border=\"1\" class=\"dataframe\">\n",
       "  <thead>\n",
       "    <tr style=\"text-align: right;\">\n",
       "      <th></th>\n",
       "      <th>Name</th>\n",
       "      <th>Age</th>\n",
       "      <th>Experience</th>\n",
       "      <th>Position</th>\n",
       "    </tr>\n",
       "  </thead>\n",
       "  <tbody>\n",
       "    <tr>\n",
       "      <th>8</th>\n",
       "      <td>Matthew</td>\n",
       "      <td>22</td>\n",
       "      <td>5</td>\n",
       "      <td>Attorney</td>\n",
       "    </tr>\n",
       "    <tr>\n",
       "      <th>2</th>\n",
       "      <td>Latesha</td>\n",
       "      <td>23</td>\n",
       "      <td>9</td>\n",
       "      <td>Human Resources</td>\n",
       "    </tr>\n",
       "    <tr>\n",
       "      <th>7</th>\n",
       "      <td>Emily</td>\n",
       "      <td>23</td>\n",
       "      <td>9</td>\n",
       "      <td>Account Manager</td>\n",
       "    </tr>\n",
       "    <tr>\n",
       "      <th>9</th>\n",
       "      <td>Anthony</td>\n",
       "      <td>27</td>\n",
       "      <td>2</td>\n",
       "      <td>Paralegal</td>\n",
       "    </tr>\n",
       "    <tr>\n",
       "      <th>4</th>\n",
       "      <td>Alexa</td>\n",
       "      <td>36</td>\n",
       "      <td>11</td>\n",
       "      <td>Data Scientist</td>\n",
       "    </tr>\n",
       "    <tr>\n",
       "      <th>10</th>\n",
       "      <td>Margaret</td>\n",
       "      <td>37</td>\n",
       "      <td>1</td>\n",
       "      <td>Data Analyst</td>\n",
       "    </tr>\n",
       "    <tr>\n",
       "      <th>1</th>\n",
       "      <td>Kathy</td>\n",
       "      <td>41</td>\n",
       "      <td>5</td>\n",
       "      <td>Director of Operations</td>\n",
       "    </tr>\n",
       "    <tr>\n",
       "      <th>11</th>\n",
       "      <td>Natalie</td>\n",
       "      <td>43</td>\n",
       "      <td>4</td>\n",
       "      <td>Research Assistant</td>\n",
       "    </tr>\n",
       "    <tr>\n",
       "      <th>0</th>\n",
       "      <td>Jack</td>\n",
       "      <td>47</td>\n",
       "      <td>7</td>\n",
       "      <td>Economist</td>\n",
       "    </tr>\n",
       "    <tr>\n",
       "      <th>6</th>\n",
       "      <td>Joshua</td>\n",
       "      <td>48</td>\n",
       "      <td>8</td>\n",
       "      <td>Account Manager</td>\n",
       "    </tr>\n",
       "    <tr>\n",
       "      <th>5</th>\n",
       "      <td>Jonathan</td>\n",
       "      <td>54</td>\n",
       "      <td>6</td>\n",
       "      <td>Admin. Assistant</td>\n",
       "    </tr>\n",
       "    <tr>\n",
       "      <th>3</th>\n",
       "      <td>Brandon</td>\n",
       "      <td>55</td>\n",
       "      <td>3</td>\n",
       "      <td>Admin. Assistant</td>\n",
       "    </tr>\n",
       "  </tbody>\n",
       "</table>\n",
       "</div>"
      ],
      "text/plain": [
       "        Name  Age  Experience                Position\n",
       "8    Matthew   22           5                Attorney\n",
       "2    Latesha   23           9         Human Resources\n",
       "7      Emily   23           9         Account Manager\n",
       "9    Anthony   27           2               Paralegal\n",
       "4      Alexa   36          11          Data Scientist\n",
       "10  Margaret   37           1            Data Analyst\n",
       "1      Kathy   41           5  Director of Operations\n",
       "11   Natalie   43           4      Research Assistant\n",
       "0       Jack   47           7               Economist\n",
       "6     Joshua   48           8         Account Manager\n",
       "5   Jonathan   54           6        Admin. Assistant\n",
       "3    Brandon   55           3        Admin. Assistant"
      ]
     },
     "execution_count": 27,
     "metadata": {},
     "output_type": "execute_result"
    }
   ],
   "source": [
    "# pandas sorts values in ascending order\n",
    "# by default, so there is no need to parse \n",
    "# in ascending=True as a parameter\n",
    "\n",
    "df_age = df.sort_values(by=['Age'])\n",
    "df_age"
   ]
  },
  {
   "cell_type": "markdown",
   "metadata": {},
   "source": [
    "Now, if we want to also sort by experience while keeping age sorted according to previous specifications, we can do the following:"
   ]
  },
  {
   "cell_type": "code",
   "execution_count": 28,
   "metadata": {},
   "outputs": [
    {
     "data": {
      "text/html": [
       "<div>\n",
       "<style scoped>\n",
       "    .dataframe tbody tr th:only-of-type {\n",
       "        vertical-align: middle;\n",
       "    }\n",
       "\n",
       "    .dataframe tbody tr th {\n",
       "        vertical-align: top;\n",
       "    }\n",
       "\n",
       "    .dataframe thead th {\n",
       "        text-align: right;\n",
       "    }\n",
       "</style>\n",
       "<table border=\"1\" class=\"dataframe\">\n",
       "  <thead>\n",
       "    <tr style=\"text-align: right;\">\n",
       "      <th></th>\n",
       "      <th>Name</th>\n",
       "      <th>Age</th>\n",
       "      <th>Experience</th>\n",
       "      <th>Position</th>\n",
       "    </tr>\n",
       "  </thead>\n",
       "  <tbody>\n",
       "    <tr>\n",
       "      <th>8</th>\n",
       "      <td>Matthew</td>\n",
       "      <td>22</td>\n",
       "      <td>5</td>\n",
       "      <td>Attorney</td>\n",
       "    </tr>\n",
       "    <tr>\n",
       "      <th>2</th>\n",
       "      <td>Latesha</td>\n",
       "      <td>23</td>\n",
       "      <td>9</td>\n",
       "      <td>Human Resources</td>\n",
       "    </tr>\n",
       "    <tr>\n",
       "      <th>7</th>\n",
       "      <td>Emily</td>\n",
       "      <td>23</td>\n",
       "      <td>9</td>\n",
       "      <td>Account Manager</td>\n",
       "    </tr>\n",
       "    <tr>\n",
       "      <th>9</th>\n",
       "      <td>Anthony</td>\n",
       "      <td>27</td>\n",
       "      <td>2</td>\n",
       "      <td>Paralegal</td>\n",
       "    </tr>\n",
       "    <tr>\n",
       "      <th>4</th>\n",
       "      <td>Alexa</td>\n",
       "      <td>36</td>\n",
       "      <td>11</td>\n",
       "      <td>Data Scientist</td>\n",
       "    </tr>\n",
       "    <tr>\n",
       "      <th>10</th>\n",
       "      <td>Margaret</td>\n",
       "      <td>37</td>\n",
       "      <td>1</td>\n",
       "      <td>Data Analyst</td>\n",
       "    </tr>\n",
       "    <tr>\n",
       "      <th>1</th>\n",
       "      <td>Kathy</td>\n",
       "      <td>41</td>\n",
       "      <td>5</td>\n",
       "      <td>Director of Operations</td>\n",
       "    </tr>\n",
       "    <tr>\n",
       "      <th>11</th>\n",
       "      <td>Natalie</td>\n",
       "      <td>43</td>\n",
       "      <td>4</td>\n",
       "      <td>Research Assistant</td>\n",
       "    </tr>\n",
       "    <tr>\n",
       "      <th>0</th>\n",
       "      <td>Jack</td>\n",
       "      <td>47</td>\n",
       "      <td>7</td>\n",
       "      <td>Economist</td>\n",
       "    </tr>\n",
       "    <tr>\n",
       "      <th>6</th>\n",
       "      <td>Joshua</td>\n",
       "      <td>48</td>\n",
       "      <td>8</td>\n",
       "      <td>Account Manager</td>\n",
       "    </tr>\n",
       "    <tr>\n",
       "      <th>5</th>\n",
       "      <td>Jonathan</td>\n",
       "      <td>54</td>\n",
       "      <td>6</td>\n",
       "      <td>Admin. Assistant</td>\n",
       "    </tr>\n",
       "    <tr>\n",
       "      <th>3</th>\n",
       "      <td>Brandon</td>\n",
       "      <td>55</td>\n",
       "      <td>3</td>\n",
       "      <td>Admin. Assistant</td>\n",
       "    </tr>\n",
       "  </tbody>\n",
       "</table>\n",
       "</div>"
      ],
      "text/plain": [
       "        Name  Age  Experience                Position\n",
       "8    Matthew   22           5                Attorney\n",
       "2    Latesha   23           9         Human Resources\n",
       "7      Emily   23           9         Account Manager\n",
       "9    Anthony   27           2               Paralegal\n",
       "4      Alexa   36          11          Data Scientist\n",
       "10  Margaret   37           1            Data Analyst\n",
       "1      Kathy   41           5  Director of Operations\n",
       "11   Natalie   43           4      Research Assistant\n",
       "0       Jack   47           7               Economist\n",
       "6     Joshua   48           8         Account Manager\n",
       "5   Jonathan   54           6        Admin. Assistant\n",
       "3    Brandon   55           3        Admin. Assistant"
      ]
     },
     "execution_count": 28,
     "metadata": {},
     "output_type": "execute_result"
    }
   ],
   "source": [
    "df_age_exp = df.sort_values(by = ['Age', 'Experience'])\n",
    "df_age_exp"
   ]
  },
  {
   "cell_type": "markdown",
   "metadata": {},
   "source": [
    "## Handling *#NA* values"
   ]
  },
  {
   "cell_type": "markdown",
   "metadata": {},
   "source": [
    "*#NA* (not available) refers to missing values. What if our dataset has missing values? How should we handle this scenario? For example, age has some missing values.\n",
    "\n",
    "However, in our particular case, we have introduced `NaNs`. NaN simply refers to Not a Number. Since we are looking at age as numeric values, let us observe when two of those numbers appear as missing values of the NaN form. "
   ]
  },
  {
   "cell_type": "code",
   "execution_count": 29,
   "metadata": {},
   "outputs": [
    {
     "data": {
      "text/html": [
       "<div>\n",
       "<style scoped>\n",
       "    .dataframe tbody tr th:only-of-type {\n",
       "        vertical-align: middle;\n",
       "    }\n",
       "\n",
       "    .dataframe tbody tr th {\n",
       "        vertical-align: top;\n",
       "    }\n",
       "\n",
       "    .dataframe thead th {\n",
       "        text-align: right;\n",
       "    }\n",
       "</style>\n",
       "<table border=\"1\" class=\"dataframe\">\n",
       "  <thead>\n",
       "    <tr style=\"text-align: right;\">\n",
       "      <th></th>\n",
       "      <th>Name</th>\n",
       "      <th>Age</th>\n",
       "      <th>Experience</th>\n",
       "      <th>Position</th>\n",
       "    </tr>\n",
       "  </thead>\n",
       "  <tbody>\n",
       "    <tr>\n",
       "      <th>0</th>\n",
       "      <td>Jack</td>\n",
       "      <td>47.0</td>\n",
       "      <td>7</td>\n",
       "      <td>Economist</td>\n",
       "    </tr>\n",
       "    <tr>\n",
       "      <th>1</th>\n",
       "      <td>Kathy</td>\n",
       "      <td>NaN</td>\n",
       "      <td>5</td>\n",
       "      <td>Director of Operations</td>\n",
       "    </tr>\n",
       "    <tr>\n",
       "      <th>2</th>\n",
       "      <td>Latesha</td>\n",
       "      <td>23.0</td>\n",
       "      <td>9</td>\n",
       "      <td>Human Resources</td>\n",
       "    </tr>\n",
       "    <tr>\n",
       "      <th>3</th>\n",
       "      <td>Brandon</td>\n",
       "      <td>55.0</td>\n",
       "      <td>3</td>\n",
       "      <td>Admin. Assistant</td>\n",
       "    </tr>\n",
       "    <tr>\n",
       "      <th>4</th>\n",
       "      <td>Alexa</td>\n",
       "      <td>36.0</td>\n",
       "      <td>11</td>\n",
       "      <td>Data Scientist</td>\n",
       "    </tr>\n",
       "    <tr>\n",
       "      <th>5</th>\n",
       "      <td>Jonathan</td>\n",
       "      <td>54.0</td>\n",
       "      <td>6</td>\n",
       "      <td>Admin. Assistant</td>\n",
       "    </tr>\n",
       "    <tr>\n",
       "      <th>6</th>\n",
       "      <td>Joshua</td>\n",
       "      <td>48.0</td>\n",
       "      <td>8</td>\n",
       "      <td>Account Manager</td>\n",
       "    </tr>\n",
       "    <tr>\n",
       "      <th>7</th>\n",
       "      <td>Emily</td>\n",
       "      <td>NaN</td>\n",
       "      <td>9</td>\n",
       "      <td>Account Manager</td>\n",
       "    </tr>\n",
       "    <tr>\n",
       "      <th>8</th>\n",
       "      <td>Matthew</td>\n",
       "      <td>22.0</td>\n",
       "      <td>5</td>\n",
       "      <td>Attorney</td>\n",
       "    </tr>\n",
       "    <tr>\n",
       "      <th>9</th>\n",
       "      <td>Anthony</td>\n",
       "      <td>27.0</td>\n",
       "      <td>2</td>\n",
       "      <td>Paralegal</td>\n",
       "    </tr>\n",
       "    <tr>\n",
       "      <th>10</th>\n",
       "      <td>Margaret</td>\n",
       "      <td>37.0</td>\n",
       "      <td>1</td>\n",
       "      <td>Data Analyst</td>\n",
       "    </tr>\n",
       "    <tr>\n",
       "      <th>11</th>\n",
       "      <td>Natalie</td>\n",
       "      <td>43.0</td>\n",
       "      <td>4</td>\n",
       "      <td>Research Assistant</td>\n",
       "    </tr>\n",
       "  </tbody>\n",
       "</table>\n",
       "</div>"
      ],
      "text/plain": [
       "        Name   Age  Experience                Position\n",
       "0       Jack  47.0           7               Economist\n",
       "1      Kathy   NaN           5  Director of Operations\n",
       "2    Latesha  23.0           9         Human Resources\n",
       "3    Brandon  55.0           3        Admin. Assistant\n",
       "4      Alexa  36.0          11          Data Scientist\n",
       "5   Jonathan  54.0           6        Admin. Assistant\n",
       "6     Joshua  48.0           8         Account Manager\n",
       "7      Emily   NaN           9         Account Manager\n",
       "8    Matthew  22.0           5                Attorney\n",
       "9    Anthony  27.0           2               Paralegal\n",
       "10  Margaret  37.0           1            Data Analyst\n",
       "11   Natalie  43.0           4      Research Assistant"
      ]
     },
     "execution_count": 29,
     "metadata": {},
     "output_type": "execute_result"
    }
   ],
   "source": [
    "df_2 = pd.DataFrame({'Name': ['Jack', 'Kathy', 'Latesha', \n",
    "                    'Brandon', 'Alexa', \n",
    "                    'Jonathan', 'Joshua', 'Emily', \n",
    "                    'Matthew', 'Anthony', 'Margaret', \n",
    "                    'Natalie'],\n",
    "                   \n",
    "                   'Age':[47, np.nan , 23, 55, 36, 54, 48, \n",
    "                          np.nan, 22, 27, 37, 43],\n",
    "                   \n",
    "                   'Experience':[7,5,9,3,11,6,8,9,5,2,1,4],\n",
    "                   'Position': ['Economist', \n",
    "                    'Director of Operations', \n",
    "                    'Human Resources', 'Admin. Assistant', \n",
    "                    'Data Scientist', 'Admin. Assistant', \n",
    "                    'Account Manager', 'Account Manager', \n",
    "                    'Attorney', 'Paralegal','Data Analyst', \n",
    "                    'Research Assistant']})\n",
    "df_2"
   ]
  },
  {
   "cell_type": "markdown",
   "metadata": {},
   "source": [
    "## Inspecting *#NA* values"
   ]
  },
  {
   "cell_type": "code",
   "execution_count": 30,
   "metadata": {},
   "outputs": [
    {
     "name": "stdout",
     "output_type": "stream",
     "text": [
      "     Name    Age  Experience  Position\n",
      "0   False  False       False     False\n",
      "1   False   True       False     False\n",
      "2   False  False       False     False\n",
      "3   False  False       False     False\n",
      "4   False  False       False     False\n",
      "5   False  False       False     False\n",
      "6   False  False       False     False\n",
      "7   False   True       False     False\n",
      "8   False  False       False     False\n",
      "9   False  False       False     False\n",
      "10  False  False       False     False\n",
      "11  False  False       False     False \n",
      "\n",
      "Name          0\n",
      "Age           2\n",
      "Experience    0\n",
      "Position      0\n",
      "dtype: int64\n"
     ]
    }
   ],
   "source": [
    "# inspect dataset for missing values\n",
    "# with logical (bool) returns\n",
    "print(df_2.isnull(), '\\n')\n",
    "\n",
    "# sum up all of the missing values in \n",
    "# each row (if there are any)\n",
    "print(df_2.isnull().sum())"
   ]
  },
  {
   "cell_type": "markdown",
   "metadata": {},
   "source": [
    "We can delete the rows with missing values by making an `dropna()` function call in the following manner:"
   ]
  },
  {
   "cell_type": "code",
   "execution_count": 31,
   "metadata": {},
   "outputs": [
    {
     "data": {
      "text/html": [
       "<div>\n",
       "<style scoped>\n",
       "    .dataframe tbody tr th:only-of-type {\n",
       "        vertical-align: middle;\n",
       "    }\n",
       "\n",
       "    .dataframe tbody tr th {\n",
       "        vertical-align: top;\n",
       "    }\n",
       "\n",
       "    .dataframe thead th {\n",
       "        text-align: right;\n",
       "    }\n",
       "</style>\n",
       "<table border=\"1\" class=\"dataframe\">\n",
       "  <thead>\n",
       "    <tr style=\"text-align: right;\">\n",
       "      <th></th>\n",
       "      <th>Name</th>\n",
       "      <th>Age</th>\n",
       "      <th>Experience</th>\n",
       "      <th>Position</th>\n",
       "    </tr>\n",
       "  </thead>\n",
       "  <tbody>\n",
       "    <tr>\n",
       "      <th>0</th>\n",
       "      <td>Jack</td>\n",
       "      <td>47.0</td>\n",
       "      <td>7</td>\n",
       "      <td>Economist</td>\n",
       "    </tr>\n",
       "    <tr>\n",
       "      <th>2</th>\n",
       "      <td>Latesha</td>\n",
       "      <td>23.0</td>\n",
       "      <td>9</td>\n",
       "      <td>Human Resources</td>\n",
       "    </tr>\n",
       "    <tr>\n",
       "      <th>3</th>\n",
       "      <td>Brandon</td>\n",
       "      <td>55.0</td>\n",
       "      <td>3</td>\n",
       "      <td>Admin. Assistant</td>\n",
       "    </tr>\n",
       "    <tr>\n",
       "      <th>4</th>\n",
       "      <td>Alexa</td>\n",
       "      <td>36.0</td>\n",
       "      <td>11</td>\n",
       "      <td>Data Scientist</td>\n",
       "    </tr>\n",
       "    <tr>\n",
       "      <th>5</th>\n",
       "      <td>Jonathan</td>\n",
       "      <td>54.0</td>\n",
       "      <td>6</td>\n",
       "      <td>Admin. Assistant</td>\n",
       "    </tr>\n",
       "    <tr>\n",
       "      <th>6</th>\n",
       "      <td>Joshua</td>\n",
       "      <td>48.0</td>\n",
       "      <td>8</td>\n",
       "      <td>Account Manager</td>\n",
       "    </tr>\n",
       "    <tr>\n",
       "      <th>8</th>\n",
       "      <td>Matthew</td>\n",
       "      <td>22.0</td>\n",
       "      <td>5</td>\n",
       "      <td>Attorney</td>\n",
       "    </tr>\n",
       "    <tr>\n",
       "      <th>9</th>\n",
       "      <td>Anthony</td>\n",
       "      <td>27.0</td>\n",
       "      <td>2</td>\n",
       "      <td>Paralegal</td>\n",
       "    </tr>\n",
       "    <tr>\n",
       "      <th>10</th>\n",
       "      <td>Margaret</td>\n",
       "      <td>37.0</td>\n",
       "      <td>1</td>\n",
       "      <td>Data Analyst</td>\n",
       "    </tr>\n",
       "    <tr>\n",
       "      <th>11</th>\n",
       "      <td>Natalie</td>\n",
       "      <td>43.0</td>\n",
       "      <td>4</td>\n",
       "      <td>Research Assistant</td>\n",
       "    </tr>\n",
       "  </tbody>\n",
       "</table>\n",
       "</div>"
      ],
      "text/plain": [
       "        Name   Age  Experience            Position\n",
       "0       Jack  47.0           7           Economist\n",
       "2    Latesha  23.0           9     Human Resources\n",
       "3    Brandon  55.0           3    Admin. Assistant\n",
       "4      Alexa  36.0          11      Data Scientist\n",
       "5   Jonathan  54.0           6    Admin. Assistant\n",
       "6     Joshua  48.0           8     Account Manager\n",
       "8    Matthew  22.0           5            Attorney\n",
       "9    Anthony  27.0           2           Paralegal\n",
       "10  Margaret  37.0           1        Data Analyst\n",
       "11   Natalie  43.0           4  Research Assistant"
      ]
     },
     "execution_count": 31,
     "metadata": {},
     "output_type": "execute_result"
    }
   ],
   "source": [
    "# drop missing values\n",
    "df_2.dropna(subset=['Age'], inplace=True)  \n",
    "\n",
    "# inspect the dataframe; there are no\n",
    "# more missing values, since we dropped them\n",
    "df_2"
   ]
  },
  {
   "cell_type": "markdown",
   "metadata": {},
   "source": [
    "What if we receive a dataframe that, at a cursory glance, warehouses numerical values where we see numbers, but when running additional operations on the dataframe, we discover that we cannot conduct numerical exercises with columns that appear to have numbers. This is exactly why it is of utmost importance for us to always inspect the structure of the dataframe using the `df.dtypes` function call. Here is an example of the same dataframe with altered data types."
   ]
  },
  {
   "cell_type": "code",
   "execution_count": 32,
   "metadata": {},
   "outputs": [
    {
     "data": {
      "text/html": [
       "<div>\n",
       "<style scoped>\n",
       "    .dataframe tbody tr th:only-of-type {\n",
       "        vertical-align: middle;\n",
       "    }\n",
       "\n",
       "    .dataframe tbody tr th {\n",
       "        vertical-align: top;\n",
       "    }\n",
       "\n",
       "    .dataframe thead th {\n",
       "        text-align: right;\n",
       "    }\n",
       "</style>\n",
       "<table border=\"1\" class=\"dataframe\">\n",
       "  <thead>\n",
       "    <tr style=\"text-align: right;\">\n",
       "      <th></th>\n",
       "      <th>Name</th>\n",
       "      <th>Age</th>\n",
       "      <th>Experience</th>\n",
       "      <th>Position</th>\n",
       "    </tr>\n",
       "  </thead>\n",
       "  <tbody>\n",
       "    <tr>\n",
       "      <th>0</th>\n",
       "      <td>Jack</td>\n",
       "      <td>47</td>\n",
       "      <td>7</td>\n",
       "      <td>Economist</td>\n",
       "    </tr>\n",
       "    <tr>\n",
       "      <th>1</th>\n",
       "      <td>Kathy</td>\n",
       "      <td>41</td>\n",
       "      <td>5</td>\n",
       "      <td>Director of Operations</td>\n",
       "    </tr>\n",
       "    <tr>\n",
       "      <th>2</th>\n",
       "      <td>Latesha</td>\n",
       "      <td>23</td>\n",
       "      <td>9</td>\n",
       "      <td>Human Resources</td>\n",
       "    </tr>\n",
       "    <tr>\n",
       "      <th>3</th>\n",
       "      <td>Brandon</td>\n",
       "      <td>55</td>\n",
       "      <td>3</td>\n",
       "      <td>Admin. Assistant</td>\n",
       "    </tr>\n",
       "    <tr>\n",
       "      <th>4</th>\n",
       "      <td>Alexa</td>\n",
       "      <td>36</td>\n",
       "      <td>11</td>\n",
       "      <td>Data Scientist</td>\n",
       "    </tr>\n",
       "    <tr>\n",
       "      <th>5</th>\n",
       "      <td>Jonathan</td>\n",
       "      <td>54</td>\n",
       "      <td>6</td>\n",
       "      <td>Admin. Assistant</td>\n",
       "    </tr>\n",
       "    <tr>\n",
       "      <th>6</th>\n",
       "      <td>Joshua</td>\n",
       "      <td>48</td>\n",
       "      <td>8</td>\n",
       "      <td>Account Manager</td>\n",
       "    </tr>\n",
       "    <tr>\n",
       "      <th>7</th>\n",
       "      <td>Emily</td>\n",
       "      <td>23</td>\n",
       "      <td>9</td>\n",
       "      <td>Account Manager</td>\n",
       "    </tr>\n",
       "    <tr>\n",
       "      <th>8</th>\n",
       "      <td>Matthew</td>\n",
       "      <td>22</td>\n",
       "      <td>5</td>\n",
       "      <td>Attorney</td>\n",
       "    </tr>\n",
       "    <tr>\n",
       "      <th>9</th>\n",
       "      <td>Anthony</td>\n",
       "      <td>27</td>\n",
       "      <td>2</td>\n",
       "      <td>Paralegal</td>\n",
       "    </tr>\n",
       "    <tr>\n",
       "      <th>10</th>\n",
       "      <td>Margaret</td>\n",
       "      <td>37</td>\n",
       "      <td>1</td>\n",
       "      <td>Data Analyst</td>\n",
       "    </tr>\n",
       "    <tr>\n",
       "      <th>11</th>\n",
       "      <td>Natalie</td>\n",
       "      <td>43</td>\n",
       "      <td>4</td>\n",
       "      <td>Research Assistant</td>\n",
       "    </tr>\n",
       "  </tbody>\n",
       "</table>\n",
       "</div>"
      ],
      "text/plain": [
       "        Name Age  Experience                Position\n",
       "0       Jack  47           7               Economist\n",
       "1      Kathy  41           5  Director of Operations\n",
       "2    Latesha  23           9         Human Resources\n",
       "3    Brandon  55           3        Admin. Assistant\n",
       "4      Alexa  36          11          Data Scientist\n",
       "5   Jonathan  54           6        Admin. Assistant\n",
       "6     Joshua  48           8         Account Manager\n",
       "7      Emily  23           9         Account Manager\n",
       "8    Matthew  22           5                Attorney\n",
       "9    Anthony  27           2               Paralegal\n",
       "10  Margaret  37           1            Data Analyst\n",
       "11   Natalie  43           4      Research Assistant"
      ]
     },
     "execution_count": 32,
     "metadata": {},
     "output_type": "execute_result"
    }
   ],
   "source": [
    "df_3 = pd.DataFrame({\n",
    "                    'Name': ['Jack', 'Kathy', 'Latesha', \n",
    "                    'Brandon', 'Alexa', \n",
    "                    'Jonathan', 'Joshua', 'Emily', \n",
    "                    'Matthew', 'Anthony', 'Margaret', \n",
    "                    'Natalie'],\n",
    "                   \n",
    "                    'Age':['47', '41', '23', '55', '36', '54', \n",
    "                          '48', '23', '22', '27', '37', '43'],\n",
    "                   \n",
    "                    'Experience':[7,5,9,3,11,6,8,9,5,2,1,4],\n",
    "                    'Position': ['Economist', \n",
    "                    'Director of Operations', \n",
    "                    'Human Resources', 'Admin. Assistant', \n",
    "                    'Data Scientist', 'Admin. Assistant', \n",
    "                    'Account Manager', 'Account Manager', \n",
    "                    'Attorney', 'Paralegal','Data Analyst', \n",
    "                    'Research Assistant']\n",
    "                })\n",
    "df_3"
   ]
  },
  {
   "cell_type": "markdown",
   "metadata": {},
   "source": [
    "At a cursory glance, the data frame looks identical to the `df` we had originally. However, inspecting the data types yields unexpected information, that age is not an integer:"
   ]
  },
  {
   "cell_type": "code",
   "execution_count": 33,
   "metadata": {},
   "outputs": [
    {
     "data": {
      "text/plain": [
       "Name          object\n",
       "Age           object\n",
       "Experience     int64\n",
       "Position      object\n",
       "dtype: object"
      ]
     },
     "execution_count": 33,
     "metadata": {},
     "output_type": "execute_result"
    }
   ],
   "source": [
    "# age is now an object\n",
    "df_3.dtypes"
   ]
  },
  {
   "cell_type": "markdown",
   "metadata": {},
   "source": [
    "Let us convert age back to an integer and re-inspect the dataframe. Notice how converting entire columns of dataframes from an objects to numeric data is more than just calling the `int()` function. We re-assign the variable with the specified column back to itself using the `pd.to_numeric()` function as follows:"
   ]
  },
  {
   "cell_type": "code",
   "execution_count": 34,
   "metadata": {},
   "outputs": [
    {
     "data": {
      "text/plain": [
       "Name          object\n",
       "Age            int64\n",
       "Experience     int64\n",
       "Position      object\n",
       "dtype: object"
      ]
     },
     "execution_count": 34,
     "metadata": {},
     "output_type": "execute_result"
    }
   ],
   "source": [
    "df_3['Age'] = pd.to_numeric(df_3['Age'])\n",
    "df_3.dtypes"
   ]
  },
  {
   "cell_type": "markdown",
   "metadata": {},
   "source": [
    "However, to cast a variable in a dataframe into an object (i.e., string), we can simply apply the `str()` function call before the dataframe name and specified column in the following manner:"
   ]
  },
  {
   "cell_type": "code",
   "execution_count": 35,
   "metadata": {},
   "outputs": [
    {
     "data": {
      "text/plain": [
       "Name          object\n",
       "Age            int64\n",
       "Experience    object\n",
       "Position      object\n",
       "dtype: object"
      ]
     },
     "execution_count": 35,
     "metadata": {},
     "output_type": "execute_result"
    }
   ],
   "source": [
    "df_3['Experience'] = str(df_3['Age'])\n",
    "df_3.dtypes"
   ]
  },
  {
   "cell_type": "markdown",
   "metadata": {},
   "source": [
    "## Import Data From Flat CSV File\n",
    "\n",
    "Assuming that your file is located in the same working directory that you have specified at the onset of \n",
    "this tutorial/workshop, make an assignment to a new variable (i.e., `ex_csv`) \n",
    "and call `pd.read_csv()` in the following generalized format:\n",
    "\n",
    "Notice that the `pd` in front of `read_csv()` belongs to the pandas library which we imported as `pd` earlier. \n",
    "\n",
    "`ex_csv <- pd.read.csv(filename)`\n",
    "\n"
   ]
  },
  {
   "cell_type": "markdown",
   "metadata": {},
   "source": [
    "## Specifying a Random State and Seed\n",
    "\n",
    "Whereas in R, we use the `set.seed()` command to specify an arbitrary number for reproducibility of results, in `Python` we use the `random_state()`function. It is always best practice to use the same assigned random state throughout the entire experiment. Setting the random state to this arbitrary number (of any length) will guarantee exactly the same output across all Python notebooks, sessions and users, respectively. \n",
    "\n",
    "When working with simulated numpy arrays, it is best practice to set a seed using the `np.random.seed()` function."
   ]
  },
  {
   "cell_type": "markdown",
   "metadata": {},
   "source": [
    "## Basic Statistics"
   ]
  },
  {
   "cell_type": "markdown",
   "metadata": {},
   "source": [
    "Let us create a new data frame of numbers 1 - 100 and go over the basic statistical functions."
   ]
  },
  {
   "cell_type": "code",
   "execution_count": 36,
   "metadata": {},
   "outputs": [
    {
     "data": {
      "text/html": [
       "<div>\n",
       "<style scoped>\n",
       "    .dataframe tbody tr th:only-of-type {\n",
       "        vertical-align: middle;\n",
       "    }\n",
       "\n",
       "    .dataframe tbody tr th {\n",
       "        vertical-align: top;\n",
       "    }\n",
       "\n",
       "    .dataframe thead th {\n",
       "        text-align: right;\n",
       "    }\n",
       "</style>\n",
       "<table border=\"1\" class=\"dataframe\">\n",
       "  <thead>\n",
       "    <tr style=\"text-align: right;\">\n",
       "      <th></th>\n",
       "      <th>0</th>\n",
       "    </tr>\n",
       "  </thead>\n",
       "  <tbody>\n",
       "    <tr>\n",
       "      <th>0</th>\n",
       "      <td>1</td>\n",
       "    </tr>\n",
       "    <tr>\n",
       "      <th>1</th>\n",
       "      <td>2</td>\n",
       "    </tr>\n",
       "    <tr>\n",
       "      <th>2</th>\n",
       "      <td>3</td>\n",
       "    </tr>\n",
       "    <tr>\n",
       "      <th>3</th>\n",
       "      <td>4</td>\n",
       "    </tr>\n",
       "    <tr>\n",
       "      <th>4</th>\n",
       "      <td>5</td>\n",
       "    </tr>\n",
       "    <tr>\n",
       "      <th>...</th>\n",
       "      <td>...</td>\n",
       "    </tr>\n",
       "    <tr>\n",
       "      <th>95</th>\n",
       "      <td>96</td>\n",
       "    </tr>\n",
       "    <tr>\n",
       "      <th>96</th>\n",
       "      <td>97</td>\n",
       "    </tr>\n",
       "    <tr>\n",
       "      <th>97</th>\n",
       "      <td>98</td>\n",
       "    </tr>\n",
       "    <tr>\n",
       "      <th>98</th>\n",
       "      <td>99</td>\n",
       "    </tr>\n",
       "    <tr>\n",
       "      <th>99</th>\n",
       "      <td>100</td>\n",
       "    </tr>\n",
       "  </tbody>\n",
       "</table>\n",
       "<p>100 rows × 1 columns</p>\n",
       "</div>"
      ],
      "text/plain": [
       "      0\n",
       "0     1\n",
       "1     2\n",
       "2     3\n",
       "3     4\n",
       "4     5\n",
       "..  ...\n",
       "95   96\n",
       "96   97\n",
       "97   98\n",
       "98   99\n",
       "99  100\n",
       "\n",
       "[100 rows x 1 columns]"
      ]
     },
     "execution_count": 36,
     "metadata": {},
     "output_type": "execute_result"
    }
   ],
   "source": [
    "mystats = pd.DataFrame(list(range(1,101)))\n",
    "mystats"
   ]
  },
  {
   "cell_type": "code",
   "execution_count": 37,
   "metadata": {},
   "outputs": [
    {
     "name": "stdout",
     "output_type": "stream",
     "text": [
      "Mean: 50.5\n",
      "Median: 50.5\n",
      "Minimum: 1\n",
      "Maximum: 100\n",
      "Sum of values: 5050\n",
      "Standard Deviation: 29.01149197588202\n"
     ]
    }
   ],
   "source": [
    "mean = mystats.mean() # mean of the vector\n",
    "median = mystats.median() # median of the vector\n",
    "minimum = mystats.min() # minimum of the vector\n",
    "maximum = mystats.max() # maximum of the vector\n",
    "range_mystats = (mystats.min(),mystats.max())\n",
    "sum_mystats = mystats.sum() # sum of the vector\n",
    "stdev = mystats.std() # standard deviation of the vector\n",
    "summary = mystats.describe() # summary of the dataset\n",
    "\n",
    "# we put a '0' in brackets after each of the following\n",
    "# variables so that we can access only the respective\n",
    "# statistics of each function which are contained in \n",
    "# the first element\n",
    "print('Mean:', mean[0])\n",
    "print('Median:', median[0])\n",
    "print('Minimum:', minimum[0])\n",
    "print('Maximum:', maximum[0])\n",
    "print('Sum of values:', sum_mystats[0])\n",
    "print('Standard Deviation:', stdev[0])"
   ]
  },
  {
   "cell_type": "markdown",
   "metadata": {},
   "source": [
    "Now, we can simply this endeavor by using the `df.describe()` function which will output the summary statistics:"
   ]
  },
  {
   "cell_type": "code",
   "execution_count": 38,
   "metadata": {},
   "outputs": [
    {
     "data": {
      "text/html": [
       "<div>\n",
       "<style scoped>\n",
       "    .dataframe tbody tr th:only-of-type {\n",
       "        vertical-align: middle;\n",
       "    }\n",
       "\n",
       "    .dataframe tbody tr th {\n",
       "        vertical-align: top;\n",
       "    }\n",
       "\n",
       "    .dataframe thead th {\n",
       "        text-align: right;\n",
       "    }\n",
       "</style>\n",
       "<table border=\"1\" class=\"dataframe\">\n",
       "  <thead>\n",
       "    <tr style=\"text-align: right;\">\n",
       "      <th></th>\n",
       "      <th>0</th>\n",
       "    </tr>\n",
       "  </thead>\n",
       "  <tbody>\n",
       "    <tr>\n",
       "      <th>count</th>\n",
       "      <td>100.000000</td>\n",
       "    </tr>\n",
       "    <tr>\n",
       "      <th>mean</th>\n",
       "      <td>50.500000</td>\n",
       "    </tr>\n",
       "    <tr>\n",
       "      <th>std</th>\n",
       "      <td>29.011492</td>\n",
       "    </tr>\n",
       "    <tr>\n",
       "      <th>min</th>\n",
       "      <td>1.000000</td>\n",
       "    </tr>\n",
       "    <tr>\n",
       "      <th>25%</th>\n",
       "      <td>25.750000</td>\n",
       "    </tr>\n",
       "    <tr>\n",
       "      <th>50%</th>\n",
       "      <td>50.500000</td>\n",
       "    </tr>\n",
       "    <tr>\n",
       "      <th>75%</th>\n",
       "      <td>75.250000</td>\n",
       "    </tr>\n",
       "    <tr>\n",
       "      <th>max</th>\n",
       "      <td>100.000000</td>\n",
       "    </tr>\n",
       "  </tbody>\n",
       "</table>\n",
       "</div>"
      ],
      "text/plain": [
       "                0\n",
       "count  100.000000\n",
       "mean    50.500000\n",
       "std     29.011492\n",
       "min      1.000000\n",
       "25%     25.750000\n",
       "50%     50.500000\n",
       "75%     75.250000\n",
       "max    100.000000"
      ]
     },
     "execution_count": 38,
     "metadata": {},
     "output_type": "execute_result"
    }
   ],
   "source": [
    "mystats.describe()"
   ]
  },
  {
   "cell_type": "markdown",
   "metadata": {},
   "source": [
    "## Transposing The Contents of a Dataframe"
   ]
  },
  {
   "cell_type": "markdown",
   "metadata": {},
   "source": [
    "If we wish to transpose this dataframe, we can place a `.T` behind `.describe()` like so:"
   ]
  },
  {
   "cell_type": "code",
   "execution_count": 39,
   "metadata": {},
   "outputs": [
    {
     "data": {
      "text/html": [
       "<div>\n",
       "<style scoped>\n",
       "    .dataframe tbody tr th:only-of-type {\n",
       "        vertical-align: middle;\n",
       "    }\n",
       "\n",
       "    .dataframe tbody tr th {\n",
       "        vertical-align: top;\n",
       "    }\n",
       "\n",
       "    .dataframe thead th {\n",
       "        text-align: right;\n",
       "    }\n",
       "</style>\n",
       "<table border=\"1\" class=\"dataframe\">\n",
       "  <thead>\n",
       "    <tr style=\"text-align: right;\">\n",
       "      <th></th>\n",
       "      <th>count</th>\n",
       "      <th>mean</th>\n",
       "      <th>std</th>\n",
       "      <th>min</th>\n",
       "      <th>25%</th>\n",
       "      <th>50%</th>\n",
       "      <th>75%</th>\n",
       "      <th>max</th>\n",
       "    </tr>\n",
       "  </thead>\n",
       "  <tbody>\n",
       "    <tr>\n",
       "      <th>0</th>\n",
       "      <td>100.0</td>\n",
       "      <td>50.5</td>\n",
       "      <td>29.011492</td>\n",
       "      <td>1.0</td>\n",
       "      <td>25.75</td>\n",
       "      <td>50.5</td>\n",
       "      <td>75.25</td>\n",
       "      <td>100.0</td>\n",
       "    </tr>\n",
       "  </tbody>\n",
       "</table>\n",
       "</div>"
      ],
      "text/plain": [
       "   count  mean        std  min    25%   50%    75%    max\n",
       "0  100.0  50.5  29.011492  1.0  25.75  50.5  75.25  100.0"
      ]
     },
     "execution_count": 39,
     "metadata": {},
     "output_type": "execute_result"
    }
   ],
   "source": [
    "mystats.describe().T"
   ]
  },
  {
   "cell_type": "markdown",
   "metadata": {},
   "source": [
    "## Simulating a Random Normal Distribution"
   ]
  },
  {
   "cell_type": "code",
   "execution_count": 40,
   "metadata": {},
   "outputs": [
    {
     "data": {
      "text/html": [
       "<div>\n",
       "<style scoped>\n",
       "    .dataframe tbody tr th:only-of-type {\n",
       "        vertical-align: middle;\n",
       "    }\n",
       "\n",
       "    .dataframe tbody tr th {\n",
       "        vertical-align: top;\n",
       "    }\n",
       "\n",
       "    .dataframe thead th {\n",
       "        text-align: right;\n",
       "    }\n",
       "</style>\n",
       "<table border=\"1\" class=\"dataframe\">\n",
       "  <thead>\n",
       "    <tr style=\"text-align: right;\">\n",
       "      <th></th>\n",
       "      <th>Index</th>\n",
       "      <th>Number</th>\n",
       "    </tr>\n",
       "  </thead>\n",
       "  <tbody>\n",
       "    <tr>\n",
       "      <th>0</th>\n",
       "      <td>1</td>\n",
       "      <td>69.634250</td>\n",
       "    </tr>\n",
       "    <tr>\n",
       "      <th>1</th>\n",
       "      <td>2</td>\n",
       "      <td>52.757697</td>\n",
       "    </tr>\n",
       "    <tr>\n",
       "      <th>2</th>\n",
       "      <td>3</td>\n",
       "      <td>54.586582</td>\n",
       "    </tr>\n",
       "    <tr>\n",
       "      <th>3</th>\n",
       "      <td>4</td>\n",
       "      <td>60.012647</td>\n",
       "    </tr>\n",
       "    <tr>\n",
       "      <th>4</th>\n",
       "      <td>5</td>\n",
       "      <td>42.361647</td>\n",
       "    </tr>\n",
       "    <tr>\n",
       "      <th>...</th>\n",
       "      <td>...</td>\n",
       "      <td>...</td>\n",
       "    </tr>\n",
       "    <tr>\n",
       "      <th>95</th>\n",
       "      <td>96</td>\n",
       "      <td>43.675536</td>\n",
       "    </tr>\n",
       "    <tr>\n",
       "      <th>96</th>\n",
       "      <td>97</td>\n",
       "      <td>51.745236</td>\n",
       "    </tr>\n",
       "    <tr>\n",
       "      <th>97</th>\n",
       "      <td>98</td>\n",
       "      <td>47.626588</td>\n",
       "    </tr>\n",
       "    <tr>\n",
       "      <th>98</th>\n",
       "      <td>99</td>\n",
       "      <td>55.307725</td>\n",
       "    </tr>\n",
       "    <tr>\n",
       "      <th>99</th>\n",
       "      <td>100</td>\n",
       "      <td>38.732611</td>\n",
       "    </tr>\n",
       "  </tbody>\n",
       "</table>\n",
       "<p>100 rows × 2 columns</p>\n",
       "</div>"
      ],
      "text/plain": [
       "    Index     Number\n",
       "0       1  69.634250\n",
       "1       2  52.757697\n",
       "2       3  54.586582\n",
       "3       4  60.012647\n",
       "4       5  42.361647\n",
       "..    ...        ...\n",
       "95     96  43.675536\n",
       "96     97  51.745236\n",
       "97     98  47.626588\n",
       "98     99  55.307725\n",
       "99    100  38.732611\n",
       "\n",
       "[100 rows x 2 columns]"
      ]
     },
     "execution_count": 40,
     "metadata": {},
     "output_type": "execute_result"
    }
   ],
   "source": [
    "# set seed for reproducibility\n",
    "np.random.seed(222)\n",
    "\n",
    "mu, sigma = 50, 10 # mean and standard deviation\n",
    "\n",
    "# assign variable to a dataframe\n",
    "norm_vals = pd.DataFrame(np.random.normal(mu, sigma, 100))\n",
    "\n",
    "x = list(range(1, 101))\n",
    "y = list(norm_vals[0])\n",
    "\n",
    "norm_vals = pd.DataFrame(y,x)\n",
    "norm_vals.reset_index(inplace=True)\n",
    "norm_vals.rename(columns = {0:'Number',\n",
    "                              'index': 'Index'}, \n",
    "                               inplace = True) # mod. w/out copy\n",
    "norm_vals"
   ]
  },
  {
   "cell_type": "markdown",
   "metadata": {},
   "source": [
    "## Creating Basic Plots"
   ]
  },
  {
   "cell_type": "markdown",
   "metadata": {},
   "source": [
    "Unlike `R` where we can simply call the `stem()` function to create a stem-and-leaf plot, in `Python` we must first install and import the `stemgraphic` library."
   ]
  },
  {
   "cell_type": "code",
   "execution_count": 41,
   "metadata": {},
   "outputs": [],
   "source": [
    "# pip install stemgraphic"
   ]
  },
  {
   "cell_type": "markdown",
   "metadata": {},
   "source": [
    "We can limit the output of how many rows get printed in the resulting output by parsing in the `.loc()` function. So, if we want to print only the first 25 rows, we will access our dataframe, `norm_vals['Number']` followed by `.loc[0:25]`."
   ]
  },
  {
   "cell_type": "code",
   "execution_count": 42,
   "metadata": {
    "scrolled": false
   },
   "outputs": [
    {
     "data": {
      "image/png": "[encoded data removed]",
      "text/plain": [
       "<Figure size 540x216 with 1 Axes>"
      ]
     },
     "metadata": {
      "needs_background": "light"
     },
     "output_type": "display_data"
    }
   ],
   "source": [
    "import stemgraphic\n",
    "\n",
    "# create stem-and-leaf plot\n",
    "fig, ax = stemgraphic.stem_graphic(norm_vals['Number'].iloc[0:25])"
   ]
  },
  {
   "cell_type": "markdown",
   "metadata": {},
   "source": [
    "## Matplotlib Library"
   ]
  },
  {
   "cell_type": "markdown",
   "metadata": {},
   "source": [
    "We must first import the `matplotlib` library, a most frequently used graphical library for making basic plots in Python. Let us import this library and plot the histogram."
   ]
  },
  {
   "cell_type": "code",
   "execution_count": 43,
   "metadata": {},
   "outputs": [],
   "source": [
    "import matplotlib.pyplot as plt"
   ]
  },
  {
   "cell_type": "markdown",
   "metadata": {},
   "source": [
    "## Histograms"
   ]
  },
  {
   "cell_type": "markdown",
   "metadata": {},
   "source": [
    "We can proceed to plot a histogram of these `norm_vals` in order to inspect their distribution from a purely graphical standpoint.  \n",
    "\n",
    "Unlike R, Python does not use a built-in `hist()` function to accomplish this task. To make the plot, we will parse in our `dataframe` follows by `.hist(grid = False)` where `grid = False` explicitly avoids plotting on a grid. Moreover, `plt.show()` expressly tells `matplotlib` to avoid extraneous output above the plot."
   ]
  },
  {
   "cell_type": "code",
   "execution_count": 44,
   "metadata": {},
   "outputs": [
    {
     "data": {
      "image/png": "[encoded data removed]",
      "text/plain": [
       "<Figure size 432x288 with 1 Axes>"
      ]
     },
     "metadata": {
      "needs_background": "light"
     },
     "output_type": "display_data"
    }
   ],
   "source": [
    "# plot a basic histogram\n",
    "norm_vals['Number'].hist(grid = False)\n",
    "plt.show()"
   ]
  },
  {
   "cell_type": "markdown",
   "metadata": {},
   "source": [
    "Our title, *x*-axis, and *y*-axis labels are given to us by default. However, let us say that we want to change all of them to our desired specifications. To this end, we can parse in and  control the following parameters:"
   ]
  },
  {
   "cell_type": "code",
   "execution_count": 45,
   "metadata": {},
   "outputs": [
    {
     "data": {
      "image/png": "[encoded data removed]",
      "text/plain": [
       "<Figure size 432x288 with 1 Axes>"
      ]
     },
     "metadata": {
      "needs_background": "light"
     },
     "output_type": "display_data"
    }
   ],
   "source": [
    "norm_vals['Number'].hist(grid=False, \n",
    "               color = \"lightblue\") # change color\n",
    "plt.title ('Histogram of Simulated Data') # title\n",
    "plt.xlabel('Values')                      # x-axis\n",
    "plt.ylabel('Count')                       # y-axis\n",
    "plt.show()"
   ]
  },
  {
   "cell_type": "markdown",
   "metadata": {},
   "source": [
    "## Boxplots"
   ]
  },
  {
   "cell_type": "markdown",
   "metadata": {},
   "source": [
    "Similarly, we can make a boxplot using the `df.boxplot()` function call. However, the `norm_vals` dataframe has two columns. Let us only examine the randomly distributed 100 rows that we have contained in the `Number` column. \n",
    "\n",
    "One way to do this is to create a new dataframe to only access the `Number` column:"
   ]
  },
  {
   "cell_type": "code",
   "execution_count": 46,
   "metadata": {},
   "outputs": [],
   "source": [
    "norm_number = pd.DataFrame(norm_vals['Number'])"
   ]
  },
  {
   "cell_type": "code",
   "execution_count": 47,
   "metadata": {},
   "outputs": [
    {
     "data": {
      "image/png": "[encoded data removed]",
      "text/plain": [
       "<Figure size 432x288 with 1 Axes>"
      ]
     },
     "metadata": {
      "needs_background": "light"
     },
     "output_type": "display_data"
    }
   ],
   "source": [
    "norm_number.boxplot(grid = False) \n",
    "\n",
    "# plot title\n",
    "plt.title ('Boxplot of Simulated Data') \n",
    "# x-axis label\n",
    "plt.xlabel('')   \n",
    "# y-axis label\n",
    "plt.ylabel('Values')  \n",
    "\n",
    "plt.show()"
   ]
  },
  {
   "cell_type": "markdown",
   "metadata": {},
   "source": [
    "Now, let us pivot the boxplot by parsing in the `vert=False` parameter:"
   ]
  },
  {
   "cell_type": "code",
   "execution_count": 48,
   "metadata": {},
   "outputs": [
    {
     "data": {
      "image/png": "[encoded data removed]",
      "text/plain": [
       "<Figure size 432x288 with 1 Axes>"
      ]
     },
     "metadata": {
      "needs_background": "light"
     },
     "output_type": "display_data"
    }
   ],
   "source": [
    "norm_number.boxplot(grid = False, vert = False) # re-orient\n",
    "plt.title ('Boxplot of Simulated Data') # title\n",
    "plt.ylabel('Values')                    # y-axis\n",
    "plt.show()"
   ]
  },
  {
   "cell_type": "markdown",
   "metadata": {},
   "source": [
    "## Scatter Plots"
   ]
  },
  {
   "cell_type": "markdown",
   "metadata": {},
   "source": [
    "To make a simple scatter plot, we will call the `plot.scatter()` function on the dataframe as follows:"
   ]
  },
  {
   "cell_type": "code",
   "execution_count": 49,
   "metadata": {},
   "outputs": [
    {
     "data": {
      "image/png": "[encoded data removed]",
      "text/plain": [
       "<Figure size 720x288 with 1 Axes>"
      ]
     },
     "metadata": {
      "needs_background": "light"
     },
     "output_type": "display_data"
    }
   ],
   "source": [
    "x = norm_vals['Index'] # independent variable\n",
    "y = norm_vals['Number'] # dependent variable\n",
    "\n",
    "fig,ax = plt.subplots(figsize = (10,4))\n",
    "plt.scatter(x, y) # scatter plot call\n",
    "plt.title('Scatter Plot of Simulated Data')\n",
    "\n",
    "# we can also separate lines by semicolon\n",
    "plt.xlabel('Index'); plt.ylabel('Value'); plt.show()"
   ]
  },
  {
   "cell_type": "markdown",
   "metadata": {},
   "source": [
    "## Quantile-Quantile Plot\n",
    "\n",
    "Let us create a vector from simulated data for the next example and generate a normal quantile plot."
   ]
  },
  {
   "cell_type": "code",
   "execution_count": 50,
   "metadata": {},
   "outputs": [],
   "source": [
    "# pip install statsmodels"
   ]
  },
  {
   "cell_type": "code",
   "execution_count": 51,
   "metadata": {},
   "outputs": [
    {
     "data": {
      "image/png": "[encoded data removed]",
      "text/plain": [
       "<Figure size 432x288 with 1 Axes>"
      ]
     },
     "metadata": {
      "needs_background": "light"
     },
     "output_type": "display_data"
    }
   ],
   "source": [
    "import statsmodels.api as sm\n",
    "\n",
    "np.random.seed(222)\n",
    "quant_ex = np.random.normal(0, 1, 100) \n",
    "\n",
    "sm.qqplot(quant_ex)\n",
    "plt.title('Normal Q-Q Plot')\n",
    "plt.show()"
   ]
  },
  {
   "cell_type": "markdown",
   "metadata": {},
   "source": [
    "Let us now add a theoretical Q-Q line at a 45 degree angle."
   ]
  },
  {
   "cell_type": "code",
   "execution_count": 52,
   "metadata": {},
   "outputs": [
    {
     "data": {
      "image/png": "[encoded data removed]",
      "text/plain": [
       "<Figure size 432x288 with 1 Axes>"
      ]
     },
     "metadata": {
      "needs_background": "light"
     },
     "output_type": "display_data"
    }
   ],
   "source": [
    "import statsmodels.api as sm\n",
    "\n",
    "np.random.seed(222)\n",
    "quant_ex = np.random.normal(0, 1, 100) \n",
    "\n",
    "sm.qqplot(quant_ex, \n",
    "          line='45') # theoretical Q-Q line\n",
    "plt.title('Normal Q-Q Plot')\n",
    "plt.show()"
   ]
  },
  {
   "cell_type": "markdown",
   "metadata": {},
   "source": [
    "## Skewness and Box-Cox Transformation"
   ]
  },
  {
   "cell_type": "markdown",
   "metadata": {},
   "source": [
    "From statistics, let us recall that if the mean is greater than the median, the distribution will be  positively skewed. Conversely, if the median is greater than the mean, or the mean is less than the \n",
    "median, the distribution will be negatively skewed."
   ]
  },
  {
   "cell_type": "code",
   "execution_count": 53,
   "metadata": {},
   "outputs": [
    {
     "name": "stdout",
     "output_type": "stream",
     "text": [
      "Mean of norm_vals: 50.2559224420852\n",
      "Median of norm_vals: 50.401266487660806\n",
      "Difference = -0.1453440455756052\n"
     ]
    }
   ],
   "source": [
    "mean_norm_vals = norm_vals['Number'].mean()\n",
    "median_norm_vals = norm_vals['Number'].median()\n",
    "\n",
    "print('Mean of norm_vals:', mean_norm_vals) \n",
    "print('Median of norm_vals:', median_norm_vals)\n",
    "\n",
    "print('Difference =', mean_norm_vals - median_norm_vals)"
   ]
  },
  {
   "cell_type": "markdown",
   "metadata": {},
   "source": [
    "Since both the mean and the median values are fairly close together, the data appears to be normally distributed, so we will simulate another example involving skewness.\n",
    "\n",
    "Whereas in R, we use the all-encompassing `caret` machine learning library to handle multiple tasks, often we find ourselves loading more libraries in `Python` like the `scipy` library to handle Box-Cox transformations."
   ]
  },
  {
   "cell_type": "code",
   "execution_count": 54,
   "metadata": {},
   "outputs": [],
   "source": [
    "# pip install scipy"
   ]
  },
  {
   "cell_type": "code",
   "execution_count": 55,
   "metadata": {},
   "outputs": [],
   "source": [
    "from scipy import stats\n",
    "original_data = np.random.exponential(size = 1000)\n",
    "\n",
    "# transform training data & save lambda value\n",
    "fitted_data, fitted_lambda = stats.boxcox(original_data)"
   ]
  },
  {
   "cell_type": "code",
   "execution_count": 56,
   "metadata": {},
   "outputs": [],
   "source": [
    "original_data1 = pd.DataFrame(original_data)\n",
    "fitted_data1 = pd.DataFrame(fitted_data)"
   ]
  },
  {
   "cell_type": "code",
   "execution_count": 57,
   "metadata": {},
   "outputs": [
    {
     "data": {
      "image/png": "[encoded data removed]",
      "text/plain": [
       "<Figure size 720x288 with 1 Axes>"
      ]
     },
     "metadata": {
      "needs_background": "light"
     },
     "output_type": "display_data"
    },
    {
     "data": {
      "image/png": "[encoded data removed]",
      "text/plain": [
       "<Figure size 720x288 with 1 Axes>"
      ]
     },
     "metadata": {
      "needs_background": "light"
     },
     "output_type": "display_data"
    }
   ],
   "source": [
    "# original hist(0)\n",
    "original_data1.hist(figsize=(10,4)) \n",
    "plt.title ('Histogram of Original Data')    \n",
    "plt.xlabel('Values'); plt.ylabel('Count')                         \n",
    "\n",
    "# transformed hist() \n",
    "fitted_data1.hist(grid = False, \n",
    "                  figsize=(10,4))              \n",
    "plt.title ('Histogram of Transformed Data') \n",
    "plt.xlabel('Values'); plt.ylabel('Count')\n",
    "plt.show()"
   ]
  },
  {
   "cell_type": "markdown",
   "metadata": {},
   "source": [
    "# Basic Modeling"
   ]
  },
  {
   "cell_type": "markdown",
   "metadata": {},
   "source": [
    "## Simple Linear Regression"
   ]
  },
  {
   "cell_type": "markdown",
   "metadata": {},
   "source": [
    "Let us set up an example dataset for the  following modeling endeavors. "
   ]
  },
  {
   "cell_type": "markdown",
   "metadata": {},
   "source": [
    "We will be accessing Python's most commonly used machine learning library, [`scikit-learn`](https://scikit-learn.org/stable/) to build the ensuing algorithms, though there are others like [`pycaret`](https://pycaret.org/) and [`SciPy`](https://scipy.org/), to name a few.\n",
    "\n",
    "So, let us go ahead and import `sklearn` for linear regression into our environment."
   ]
  },
  {
   "cell_type": "code",
   "execution_count": 58,
   "metadata": {},
   "outputs": [],
   "source": [
    "# pip install sklearn"
   ]
  },
  {
   "cell_type": "markdown",
   "metadata": {},
   "source": [
    "Notice a more refined importing syntax, atypical of the standard `import library name`. We are telling `Python` to import the Linear Regression module from the `scikit-learn` library as follows:"
   ]
  },
  {
   "cell_type": "code",
   "execution_count": 59,
   "metadata": {},
   "outputs": [],
   "source": [
    "from sklearn.linear_model import LinearRegression"
   ]
  },
  {
   "cell_type": "code",
   "execution_count": 60,
   "metadata": {},
   "outputs": [
    {
     "data": {
      "text/html": [
       "<div>\n",
       "<style scoped>\n",
       "    .dataframe tbody tr th:only-of-type {\n",
       "        vertical-align: middle;\n",
       "    }\n",
       "\n",
       "    .dataframe tbody tr th {\n",
       "        vertical-align: top;\n",
       "    }\n",
       "\n",
       "    .dataframe thead th {\n",
       "        text-align: right;\n",
       "    }\n",
       "</style>\n",
       "<table border=\"1\" class=\"dataframe\">\n",
       "  <thead>\n",
       "    <tr style=\"text-align: right;\">\n",
       "      <th></th>\n",
       "      <th>Hydrogen</th>\n",
       "      <th>Oxygen</th>\n",
       "      <th>Nitrogen</th>\n",
       "      <th>Gas Porosity</th>\n",
       "    </tr>\n",
       "  </thead>\n",
       "  <tbody>\n",
       "    <tr>\n",
       "      <th>0</th>\n",
       "      <td>0.18</td>\n",
       "      <td>0.55</td>\n",
       "      <td>0.35</td>\n",
       "      <td>0.46</td>\n",
       "    </tr>\n",
       "    <tr>\n",
       "      <th>1</th>\n",
       "      <td>0.20</td>\n",
       "      <td>0.77</td>\n",
       "      <td>0.48</td>\n",
       "      <td>0.70</td>\n",
       "    </tr>\n",
       "    <tr>\n",
       "      <th>2</th>\n",
       "      <td>0.21</td>\n",
       "      <td>0.40</td>\n",
       "      <td>0.31</td>\n",
       "      <td>0.41</td>\n",
       "    </tr>\n",
       "    <tr>\n",
       "      <th>3</th>\n",
       "      <td>0.21</td>\n",
       "      <td>0.45</td>\n",
       "      <td>0.75</td>\n",
       "      <td>0.45</td>\n",
       "    </tr>\n",
       "    <tr>\n",
       "      <th>4</th>\n",
       "      <td>0.21</td>\n",
       "      <td>0.62</td>\n",
       "      <td>0.32</td>\n",
       "      <td>0.55</td>\n",
       "    </tr>\n",
       "    <tr>\n",
       "      <th>5</th>\n",
       "      <td>0.22</td>\n",
       "      <td>0.78</td>\n",
       "      <td>0.56</td>\n",
       "      <td>0.44</td>\n",
       "    </tr>\n",
       "    <tr>\n",
       "      <th>6</th>\n",
       "      <td>0.23</td>\n",
       "      <td>0.24</td>\n",
       "      <td>0.06</td>\n",
       "      <td>0.24</td>\n",
       "    </tr>\n",
       "    <tr>\n",
       "      <th>7</th>\n",
       "      <td>0.23</td>\n",
       "      <td>0.47</td>\n",
       "      <td>0.46</td>\n",
       "      <td>0.47</td>\n",
       "    </tr>\n",
       "    <tr>\n",
       "      <th>8</th>\n",
       "      <td>0.24</td>\n",
       "      <td>0.15</td>\n",
       "      <td>0.79</td>\n",
       "      <td>0.22</td>\n",
       "    </tr>\n",
       "    <tr>\n",
       "      <th>9</th>\n",
       "      <td>0.24</td>\n",
       "      <td>0.70</td>\n",
       "      <td>0.88</td>\n",
       "      <td>0.80</td>\n",
       "    </tr>\n",
       "    <tr>\n",
       "      <th>10</th>\n",
       "      <td>0.25</td>\n",
       "      <td>0.99</td>\n",
       "      <td>0.66</td>\n",
       "      <td>0.88</td>\n",
       "    </tr>\n",
       "    <tr>\n",
       "      <th>11</th>\n",
       "      <td>0.28</td>\n",
       "      <td>0.62</td>\n",
       "      <td>0.04</td>\n",
       "      <td>0.70</td>\n",
       "    </tr>\n",
       "    <tr>\n",
       "      <th>12</th>\n",
       "      <td>0.30</td>\n",
       "      <td>0.55</td>\n",
       "      <td>0.44</td>\n",
       "      <td>0.72</td>\n",
       "    </tr>\n",
       "    <tr>\n",
       "      <th>13</th>\n",
       "      <td>0.37</td>\n",
       "      <td>0.88</td>\n",
       "      <td>0.61</td>\n",
       "      <td>0.75</td>\n",
       "    </tr>\n",
       "    <tr>\n",
       "      <th>14</th>\n",
       "      <td>0.31</td>\n",
       "      <td>0.49</td>\n",
       "      <td>0.15</td>\n",
       "      <td>0.16</td>\n",
       "    </tr>\n",
       "    <tr>\n",
       "      <th>15</th>\n",
       "      <td>0.90</td>\n",
       "      <td>0.36</td>\n",
       "      <td>0.48</td>\n",
       "      <td>0.15</td>\n",
       "    </tr>\n",
       "    <tr>\n",
       "      <th>16</th>\n",
       "      <td>0.81</td>\n",
       "      <td>0.55</td>\n",
       "      <td>0.23</td>\n",
       "      <td>0.08</td>\n",
       "    </tr>\n",
       "    <tr>\n",
       "      <th>17</th>\n",
       "      <td>0.41</td>\n",
       "      <td>0.42</td>\n",
       "      <td>0.90</td>\n",
       "      <td>0.47</td>\n",
       "    </tr>\n",
       "    <tr>\n",
       "      <th>18</th>\n",
       "      <td>0.74</td>\n",
       "      <td>0.39</td>\n",
       "      <td>0.26</td>\n",
       "      <td>0.59</td>\n",
       "    </tr>\n",
       "    <tr>\n",
       "      <th>19</th>\n",
       "      <td>0.42</td>\n",
       "      <td>0.74</td>\n",
       "      <td>0.41</td>\n",
       "      <td>0.21</td>\n",
       "    </tr>\n",
       "    <tr>\n",
       "      <th>20</th>\n",
       "      <td>0.37</td>\n",
       "      <td>0.50</td>\n",
       "      <td>0.76</td>\n",
       "      <td>0.37</td>\n",
       "    </tr>\n",
       "    <tr>\n",
       "      <th>21</th>\n",
       "      <td>0.49</td>\n",
       "      <td>0.17</td>\n",
       "      <td>0.30</td>\n",
       "      <td>0.96</td>\n",
       "    </tr>\n",
       "    <tr>\n",
       "      <th>22</th>\n",
       "      <td>0.07</td>\n",
       "      <td>0.18</td>\n",
       "      <td>0.56</td>\n",
       "      <td>0.06</td>\n",
       "    </tr>\n",
       "    <tr>\n",
       "      <th>23</th>\n",
       "      <td>0.94</td>\n",
       "      <td>0.94</td>\n",
       "      <td>0.73</td>\n",
       "      <td>0.17</td>\n",
       "    </tr>\n",
       "    <tr>\n",
       "      <th>24</th>\n",
       "      <td>0.47</td>\n",
       "      <td>0.97</td>\n",
       "      <td>0.10</td>\n",
       "      <td>0.10</td>\n",
       "    </tr>\n",
       "    <tr>\n",
       "      <th>25</th>\n",
       "      <td>0.35</td>\n",
       "      <td>0.29</td>\n",
       "      <td>0.01</td>\n",
       "      <td>0.92</td>\n",
       "    </tr>\n",
       "    <tr>\n",
       "      <th>26</th>\n",
       "      <td>0.83</td>\n",
       "      <td>0.85</td>\n",
       "      <td>0.05</td>\n",
       "      <td>0.80</td>\n",
       "    </tr>\n",
       "    <tr>\n",
       "      <th>27</th>\n",
       "      <td>0.61</td>\n",
       "      <td>0.17</td>\n",
       "      <td>0.34</td>\n",
       "      <td>0.06</td>\n",
       "    </tr>\n",
       "    <tr>\n",
       "      <th>28</th>\n",
       "      <td>0.30</td>\n",
       "      <td>0.33</td>\n",
       "      <td>0.27</td>\n",
       "      <td>0.52</td>\n",
       "    </tr>\n",
       "    <tr>\n",
       "      <th>29</th>\n",
       "      <td>0.61</td>\n",
       "      <td>0.29</td>\n",
       "      <td>0.42</td>\n",
       "      <td>0.01</td>\n",
       "    </tr>\n",
       "    <tr>\n",
       "      <th>30</th>\n",
       "      <td>0.54</td>\n",
       "      <td>0.85</td>\n",
       "      <td>0.83</td>\n",
       "      <td>0.37</td>\n",
       "    </tr>\n",
       "  </tbody>\n",
       "</table>\n",
       "</div>"
      ],
      "text/plain": [
       "    Hydrogen  Oxygen  Nitrogen  Gas Porosity\n",
       "0       0.18    0.55      0.35          0.46\n",
       "1       0.20    0.77      0.48          0.70\n",
       "2       0.21    0.40      0.31          0.41\n",
       "3       0.21    0.45      0.75          0.45\n",
       "4       0.21    0.62      0.32          0.55\n",
       "5       0.22    0.78      0.56          0.44\n",
       "6       0.23    0.24      0.06          0.24\n",
       "7       0.23    0.47      0.46          0.47\n",
       "8       0.24    0.15      0.79          0.22\n",
       "9       0.24    0.70      0.88          0.80\n",
       "10      0.25    0.99      0.66          0.88\n",
       "11      0.28    0.62      0.04          0.70\n",
       "12      0.30    0.55      0.44          0.72\n",
       "13      0.37    0.88      0.61          0.75\n",
       "14      0.31    0.49      0.15          0.16\n",
       "15      0.90    0.36      0.48          0.15\n",
       "16      0.81    0.55      0.23          0.08\n",
       "17      0.41    0.42      0.90          0.47\n",
       "18      0.74    0.39      0.26          0.59\n",
       "19      0.42    0.74      0.41          0.21\n",
       "20      0.37    0.50      0.76          0.37\n",
       "21      0.49    0.17      0.30          0.96\n",
       "22      0.07    0.18      0.56          0.06\n",
       "23      0.94    0.94      0.73          0.17\n",
       "24      0.47    0.97      0.10          0.10\n",
       "25      0.35    0.29      0.01          0.92\n",
       "26      0.83    0.85      0.05          0.80\n",
       "27      0.61    0.17      0.34          0.06\n",
       "28      0.30    0.33      0.27          0.52\n",
       "29      0.61    0.29      0.42          0.01\n",
       "30      0.54    0.85      0.83          0.37"
      ]
     },
     "execution_count": 60,
     "metadata": {},
     "output_type": "execute_result"
    }
   ],
   "source": [
    "lin_mod = pd.DataFrame({\n",
    "                # X1\n",
    "                'Hydrogen':[.18,.20,.21,.21,.21,.22,.23,\n",
    "                            .23,.24,.24,.25,.28,.30,.37,.31,\n",
    "                            .90,.81,.41,.74,.42,.37,.49,.07,\n",
    "                            .94,.47,.35,.83,.61,.30,.61,.54],  \n",
    "                # X2\n",
    "                'Oxygen':[.55,.77,.40,.45,.62,.78,.24,.47,\n",
    "                          .15,.70,.99,.62,.55,.88,.49,.36,\n",
    "                          .55,.42,.39,.74,.50,.17,.18,.94,\n",
    "                          .97,.29,.85,.17,.33,.29,.85], \n",
    "                # X3\n",
    "                'Nitrogen':[.35,.48,.31,.75,.32,.56,.06,.46,\n",
    "                            .79,.88,.66,.04,.44,.61,.15,.48,\n",
    "                            .23,.90,.26,.41,.76,.30,.56,.73,\n",
    "                            .10,.01,.05,.34,.27,.42,.83], \n",
    "                # y\n",
    "                'Gas Porosity':[.46,.70,.41,.45,.55,\n",
    "                                .44,.24,.47,.22,.80,.88,.70,\n",
    "                                .72,.75,.16,.15,.08,.47,.59,\n",
    "                                .21,.37,.96,.06,.17,.10,.92,\n",
    "                                .80,.06,.52,.01,.37]})\n",
    "lin_mod"
   ]
  },
  {
   "cell_type": "code",
   "execution_count": 61,
   "metadata": {},
   "outputs": [],
   "source": [
    "x1 = lin_mod['Hydrogen']; x2 = lin_mod['Oxygen']\n",
    "x3 = lin_mod['Nitrogen']; y = lin_mod['Gas Porosity']"
   ]
  },
  {
   "cell_type": "markdown",
   "metadata": {},
   "source": [
    "Prior to modeling, it is best practice to examine correlation visa vie visual scatterplot analysis as follows:"
   ]
  },
  {
   "cell_type": "code",
   "execution_count": 62,
   "metadata": {},
   "outputs": [
    {
     "data": {
      "image/png": "[encoded data removed]",
      "text/plain": [
       "<Figure size 720x288 with 1 Axes>"
      ]
     },
     "metadata": {
      "needs_background": "light"
     },
     "output_type": "display_data"
    }
   ],
   "source": [
    "fig,ax = plt.subplots(figsize = (10,4)) # resize plot\n",
    "plt.scatter(x1, y)\n",
    "plt.title('Gas Porosity vs. Hydrogen') \n",
    "plt.xlabel('Hydrogen Content'); plt.ylabel('Gas Porosity')          \n",
    "plt.show()"
   ]
  },
  {
   "cell_type": "markdown",
   "metadata": {},
   "source": [
    "Now let us calculate our correlation coefficient for the first variable relationship."
   ]
  },
  {
   "cell_type": "code",
   "execution_count": 63,
   "metadata": {},
   "outputs": [
    {
     "data": {
      "text/plain": [
       "-0.23843715627655337"
      ]
     },
     "execution_count": 63,
     "metadata": {},
     "output_type": "execute_result"
    }
   ],
   "source": [
    "corr1 = np.corrcoef(x1, y)\n",
    "r1 = corr1[0,1]\n",
    "r1"
   ]
  },
  {
   "cell_type": "markdown",
   "metadata": {},
   "source": [
    "By the correlation coefficient r you will see that there exists a relatively moderate (positive) relationship. Let us now build a simple linear model from this dataframe."
   ]
  },
  {
   "cell_type": "code",
   "execution_count": 64,
   "metadata": {},
   "outputs": [],
   "source": [
    "# notice the additional brackets\n",
    "# we do this to specify columns\n",
    "# within our dataframe of interest\n",
    "X1 = lin_mod[['Hydrogen']]\n",
    "y = lin_mod[['Gas Porosity']]\n",
    "\n",
    "# set-up the linear regression\n",
    "lm_model1 = LinearRegression().fit(X1, y)"
   ]
  },
  {
   "cell_type": "markdown",
   "metadata": {},
   "source": [
    "Next, we will rely on the stats model package to obtain a summary output table. Here, it is important to note that unlike in `R`, the `statsmodels` package in Python does not add a constant to the summary output, so for reproducible results, we will add it by the `sm.add_constant()` function."
   ]
  },
  {
   "cell_type": "code",
   "execution_count": 65,
   "metadata": {},
   "outputs": [
    {
     "data": {
      "text/html": [
       "<table class=\"simpletable\">\n",
       "<caption>OLS Regression Results</caption>\n",
       "<tr>\n",
       "  <th>Dep. Variable:</th>      <td>Gas Porosity</td>   <th>  R-squared:         </th> <td>   0.057</td>\n",
       "</tr>\n",
       "<tr>\n",
       "  <th>Model:</th>                   <td>OLS</td>       <th>  Adj. R-squared:    </th> <td>   0.024</td>\n",
       "</tr>\n",
       "<tr>\n",
       "  <th>Method:</th>             <td>Least Squares</td>  <th>  F-statistic:       </th> <td>   1.748</td>\n",
       "</tr>\n",
       "<tr>\n",
       "  <th>Date:</th>             <td>Fri, 28 Jan 2022</td> <th>  Prob (F-statistic):</th>  <td> 0.196</td> \n",
       "</tr>\n",
       "<tr>\n",
       "  <th>Time:</th>                 <td>13:30:26</td>     <th>  Log-Likelihood:    </th> <td> -3.5012</td>\n",
       "</tr>\n",
       "<tr>\n",
       "  <th>No. Observations:</th>      <td>    31</td>      <th>  AIC:               </th> <td>   11.00</td>\n",
       "</tr>\n",
       "<tr>\n",
       "  <th>Df Residuals:</th>          <td>    29</td>      <th>  BIC:               </th> <td>   13.87</td>\n",
       "</tr>\n",
       "<tr>\n",
       "  <th>Df Model:</th>              <td>     1</td>      <th>                     </th>     <td> </td>   \n",
       "</tr>\n",
       "<tr>\n",
       "  <th>Covariance Type:</th>      <td>nonrobust</td>    <th>                     </th>     <td> </td>   \n",
       "</tr>\n",
       "</table>\n",
       "<table class=\"simpletable\">\n",
       "<tr>\n",
       "      <td></td>        <th>coef</th>     <th>std err</th>      <th>t</th>      <th>P>|t|</th>  <th>[0.025</th>    <th>0.975]</th>  \n",
       "</tr>\n",
       "<tr>\n",
       "  <th>const</th>    <td>    0.5616</td> <td>    0.102</td> <td>    5.527</td> <td> 0.000</td> <td>    0.354</td> <td>    0.769</td>\n",
       "</tr>\n",
       "<tr>\n",
       "  <th>Hydrogen</th> <td>   -0.2885</td> <td>    0.218</td> <td>   -1.322</td> <td> 0.196</td> <td>   -0.735</td> <td>    0.158</td>\n",
       "</tr>\n",
       "</table>\n",
       "<table class=\"simpletable\">\n",
       "<tr>\n",
       "  <th>Omnibus:</th>       <td> 2.121</td> <th>  Durbin-Watson:     </th> <td>   2.093</td>\n",
       "</tr>\n",
       "<tr>\n",
       "  <th>Prob(Omnibus):</th> <td> 0.346</td> <th>  Jarque-Bera (JB):  </th> <td>   1.474</td>\n",
       "</tr>\n",
       "<tr>\n",
       "  <th>Skew:</th>          <td> 0.308</td> <th>  Prob(JB):          </th> <td>   0.479</td>\n",
       "</tr>\n",
       "<tr>\n",
       "  <th>Kurtosis:</th>      <td> 2.127</td> <th>  Cond. No.          </th> <td>    5.08</td>\n",
       "</tr>\n",
       "</table><br/><br/>Warnings:<br/>[1] Standard Errors assume that the covariance matrix of the errors is correctly specified."
      ],
      "text/plain": [
       "<class 'statsmodels.iolib.summary.Summary'>\n",
       "\"\"\"\n",
       "                            OLS Regression Results                            \n",
       "==============================================================================\n",
       "Dep. Variable:           Gas Porosity   R-squared:                       0.057\n",
       "Model:                            OLS   Adj. R-squared:                  0.024\n",
       "Method:                 Least Squares   F-statistic:                     1.748\n",
       "Date:                Fri, 28 Jan 2022   Prob (F-statistic):              0.196\n",
       "Time:                        13:30:26   Log-Likelihood:                -3.5012\n",
       "No. Observations:                  31   AIC:                             11.00\n",
       "Df Residuals:                      29   BIC:                             13.87\n",
       "Df Model:                           1                                         \n",
       "Covariance Type:            nonrobust                                         \n",
       "==============================================================================\n",
       "                 coef    std err          t      P>|t|      [0.025      0.975]\n",
       "------------------------------------------------------------------------------\n",
       "const          0.5616      0.102      5.527      0.000       0.354       0.769\n",
       "Hydrogen      -0.2885      0.218     -1.322      0.196      -0.735       0.158\n",
       "==============================================================================\n",
       "Omnibus:                        2.121   Durbin-Watson:                   2.093\n",
       "Prob(Omnibus):                  0.346   Jarque-Bera (JB):                1.474\n",
       "Skew:                           0.308   Prob(JB):                        0.479\n",
       "Kurtosis:                       2.127   Cond. No.                         5.08\n",
       "==============================================================================\n",
       "\n",
       "Warnings:\n",
       "[1] Standard Errors assume that the covariance matrix of the errors is correctly specified.\n",
       "\"\"\""
      ]
     },
     "execution_count": 65,
     "metadata": {},
     "output_type": "execute_result"
    }
   ],
   "source": [
    "from statsmodels.api import OLS\n",
    "X1 = sm.add_constant(X1)\n",
    "X1_results = OLS(y,X1).fit()\n",
    "X1_results.summary()"
   ]
  },
  {
   "cell_type": "markdown",
   "metadata": {},
   "source": [
    "Notice how the p-value for hydrogen content is 0.196, which lacks statistical significance when compared to the alpha value of 0.05 (at the 95% confidence level). Moreover, the *R*-Squared value of 0.057 suggests that roughly 6% of the variance for gas propensity is explained by hydrogen content."
   ]
  },
  {
   "cell_type": "markdown",
   "metadata": {},
   "source": [
    "We can make the same scatter plot, but this time with a best fit line."
   ]
  },
  {
   "cell_type": "code",
   "execution_count": 66,
   "metadata": {},
   "outputs": [
    {
     "data": {
      "image/png": "[encoded data removed]",
      "text/plain": [
       "<Figure size 432x360 with 1 Axes>"
      ]
     },
     "metadata": {
      "needs_background": "light"
     },
     "output_type": "display_data"
    }
   ],
   "source": [
    "fig, ax = plt.subplots(figsize=(6,5))\n",
    "plt.scatter(x1, y) \n",
    "plt.title('Gas Porosity vs. Hydrogen')\n",
    "plt.xlabel('Hydrogen Content')       \n",
    "plt.ylabel('Gas Porosity')           \n",
    "\n",
    "# create best-fit line based on slope-intercept form\n",
    "m, b = np.polyfit(x1, y, 1)\n",
    "plt.plot(x1, m*x1 + b, \n",
    "         color = 'red')\n",
    "\n",
    "plt.show()"
   ]
  },
  {
   "cell_type": "markdown",
   "metadata": {},
   "source": [
    "## Multiple Linear Regression"
   ]
  },
  {
   "cell_type": "markdown",
   "metadata": {},
   "source": [
    "To account for all independent (x) variables in the model, let us set up the model in a dataframe:"
   ]
  },
  {
   "cell_type": "code",
   "execution_count": 67,
   "metadata": {},
   "outputs": [],
   "source": [
    "X = lin_mod[['Hydrogen', 'Oxygen', 'Nitrogen']]\n",
    "y = lin_mod[['Gas Porosity']]"
   ]
  },
  {
   "cell_type": "markdown",
   "metadata": {},
   "source": [
    "Let us plot the remaining variable relationships."
   ]
  },
  {
   "cell_type": "code",
   "execution_count": 68,
   "metadata": {},
   "outputs": [
    {
     "data": {
      "image/png": "[encoded data removed]",
      "text/plain": [
       "<Figure size 432x360 with 1 Axes>"
      ]
     },
     "metadata": {
      "needs_background": "light"
     },
     "output_type": "display_data"
    }
   ],
   "source": [
    "fig, ax = plt.subplots(figsize=(6,5))\n",
    "plt.scatter(x2,y)\n",
    "plt.title('Gas Porosity vs. Oxygen')\n",
    "plt.xlabel('Oxygen Content')     \n",
    "plt.ylabel('Gas Porosity')           \n",
    "plt.show()"
   ]
  },
  {
   "cell_type": "code",
   "execution_count": 69,
   "metadata": {},
   "outputs": [
    {
     "data": {
      "image/png": "[encoded data removed]",
      "text/plain": [
       "<Figure size 432x288 with 1 Axes>"
      ]
     },
     "metadata": {
      "needs_background": "light"
     },
     "output_type": "display_data"
    }
   ],
   "source": [
    "x3_plot =plt.scatter(x3,y) # create scatter plot\n",
    "plt.title('Gas Porosity vs. Nitrogen') # title\n",
    "plt.xlabel('Nitrogen Content')       # x-axis label\n",
    "plt.ylabel('Gas Porosity')           # y-axis label\n",
    "x3_plot\n",
    "plt.show()"
   ]
  },
  {
   "cell_type": "code",
   "execution_count": 70,
   "metadata": {},
   "outputs": [
    {
     "data": {
      "text/html": [
       "<table class=\"simpletable\">\n",
       "<caption>OLS Regression Results</caption>\n",
       "<tr>\n",
       "  <th>Dep. Variable:</th>      <td>Gas Porosity</td>   <th>  R-squared:         </th> <td>   0.136</td>\n",
       "</tr>\n",
       "<tr>\n",
       "  <th>Model:</th>                   <td>OLS</td>       <th>  Adj. R-squared:    </th> <td>   0.040</td>\n",
       "</tr>\n",
       "<tr>\n",
       "  <th>Method:</th>             <td>Least Squares</td>  <th>  F-statistic:       </th> <td>   1.413</td>\n",
       "</tr>\n",
       "<tr>\n",
       "  <th>Date:</th>             <td>Fri, 28 Jan 2022</td> <th>  Prob (F-statistic):</th>  <td> 0.260</td> \n",
       "</tr>\n",
       "<tr>\n",
       "  <th>Time:</th>                 <td>13:30:26</td>     <th>  Log-Likelihood:    </th> <td> -2.1477</td>\n",
       "</tr>\n",
       "<tr>\n",
       "  <th>No. Observations:</th>      <td>    31</td>      <th>  AIC:               </th> <td>   12.30</td>\n",
       "</tr>\n",
       "<tr>\n",
       "  <th>Df Residuals:</th>          <td>    27</td>      <th>  BIC:               </th> <td>   18.03</td>\n",
       "</tr>\n",
       "<tr>\n",
       "  <th>Df Model:</th>              <td>     3</td>      <th>                     </th>     <td> </td>   \n",
       "</tr>\n",
       "<tr>\n",
       "  <th>Covariance Type:</th>      <td>nonrobust</td>    <th>                     </th>     <td> </td>   \n",
       "</tr>\n",
       "</table>\n",
       "<table class=\"simpletable\">\n",
       "<tr>\n",
       "      <td></td>        <th>coef</th>     <th>std err</th>      <th>t</th>      <th>P>|t|</th>  <th>[0.025</th>    <th>0.975]</th>  \n",
       "</tr>\n",
       "<tr>\n",
       "  <th>const</th>    <td>    0.4751</td> <td>    0.160</td> <td>    2.970</td> <td> 0.006</td> <td>    0.147</td> <td>    0.803</td>\n",
       "</tr>\n",
       "<tr>\n",
       "  <th>Hydrogen</th> <td>   -0.3475</td> <td>    0.220</td> <td>   -1.578</td> <td> 0.126</td> <td>   -0.799</td> <td>    0.104</td>\n",
       "</tr>\n",
       "<tr>\n",
       "  <th>Oxygen</th>   <td>    0.3082</td> <td>    0.203</td> <td>    1.519</td> <td> 0.140</td> <td>   -0.108</td> <td>    0.724</td>\n",
       "</tr>\n",
       "<tr>\n",
       "  <th>Nitrogen</th> <td>   -0.1269</td> <td>    0.196</td> <td>   -0.647</td> <td> 0.523</td> <td>   -0.530</td> <td>    0.276</td>\n",
       "</tr>\n",
       "</table>\n",
       "<table class=\"simpletable\">\n",
       "<tr>\n",
       "  <th>Omnibus:</th>       <td> 0.990</td> <th>  Durbin-Watson:     </th> <td>   2.184</td>\n",
       "</tr>\n",
       "<tr>\n",
       "  <th>Prob(Omnibus):</th> <td> 0.610</td> <th>  Jarque-Bera (JB):  </th> <td>   0.839</td>\n",
       "</tr>\n",
       "<tr>\n",
       "  <th>Skew:</th>          <td> 0.380</td> <th>  Prob(JB):          </th> <td>   0.657</td>\n",
       "</tr>\n",
       "<tr>\n",
       "  <th>Kurtosis:</th>      <td> 2.732</td> <th>  Cond. No.          </th> <td>    6.62</td>\n",
       "</tr>\n",
       "</table><br/><br/>Warnings:<br/>[1] Standard Errors assume that the covariance matrix of the errors is correctly specified."
      ],
      "text/plain": [
       "<class 'statsmodels.iolib.summary.Summary'>\n",
       "\"\"\"\n",
       "                            OLS Regression Results                            \n",
       "==============================================================================\n",
       "Dep. Variable:           Gas Porosity   R-squared:                       0.136\n",
       "Model:                            OLS   Adj. R-squared:                  0.040\n",
       "Method:                 Least Squares   F-statistic:                     1.413\n",
       "Date:                Fri, 28 Jan 2022   Prob (F-statistic):              0.260\n",
       "Time:                        13:30:26   Log-Likelihood:                -2.1477\n",
       "No. Observations:                  31   AIC:                             12.30\n",
       "Df Residuals:                      27   BIC:                             18.03\n",
       "Df Model:                           3                                         \n",
       "Covariance Type:            nonrobust                                         \n",
       "==============================================================================\n",
       "                 coef    std err          t      P>|t|      [0.025      0.975]\n",
       "------------------------------------------------------------------------------\n",
       "const          0.4751      0.160      2.970      0.006       0.147       0.803\n",
       "Hydrogen      -0.3475      0.220     -1.578      0.126      -0.799       0.104\n",
       "Oxygen         0.3082      0.203      1.519      0.140      -0.108       0.724\n",
       "Nitrogen      -0.1269      0.196     -0.647      0.523      -0.530       0.276\n",
       "==============================================================================\n",
       "Omnibus:                        0.990   Durbin-Watson:                   2.184\n",
       "Prob(Omnibus):                  0.610   Jarque-Bera (JB):                0.839\n",
       "Skew:                           0.380   Prob(JB):                        0.657\n",
       "Kurtosis:                       2.732   Cond. No.                         6.62\n",
       "==============================================================================\n",
       "\n",
       "Warnings:\n",
       "[1] Standard Errors assume that the covariance matrix of the errors is correctly specified.\n",
       "\"\"\""
      ]
     },
     "execution_count": 70,
     "metadata": {},
     "output_type": "execute_result"
    }
   ],
   "source": [
    "X = sm.add_constant(X)\n",
    "lin_model_results = OLS(y,X).fit()\n",
    "lin_model_results.summary()"
   ]
  },
  {
   "cell_type": "markdown",
   "metadata": {},
   "source": [
    "## Logistic Regression"
   ]
  },
  {
   "cell_type": "markdown",
   "metadata": {},
   "source": [
    "Whereas in linear regression, it is necessary to have a quantitative and continuous target variable, logistic regression is part of the generalized linear model series that has a categorical (often binary)\n",
    "target (outcome) variable. For example, let us say we want to predict grades for mathematics courses taught at a university. So, we have the following example dataset:"
   ]
  },
  {
   "cell_type": "code",
   "execution_count": 71,
   "metadata": {},
   "outputs": [
    {
     "data": {
      "text/html": [
       "<div>\n",
       "<style scoped>\n",
       "    .dataframe tbody tr th:only-of-type {\n",
       "        vertical-align: middle;\n",
       "    }\n",
       "\n",
       "    .dataframe tbody tr th {\n",
       "        vertical-align: top;\n",
       "    }\n",
       "\n",
       "    .dataframe thead th {\n",
       "        text-align: right;\n",
       "    }\n",
       "</style>\n",
       "<table border=\"1\" class=\"dataframe\">\n",
       "  <thead>\n",
       "    <tr style=\"text-align: right;\">\n",
       "      <th></th>\n",
       "      <th>Calculus1</th>\n",
       "      <th>Calculus2</th>\n",
       "      <th>linear_alg</th>\n",
       "      <th>pass_fail</th>\n",
       "    </tr>\n",
       "  </thead>\n",
       "  <tbody>\n",
       "    <tr>\n",
       "      <th>0</th>\n",
       "      <td>56</td>\n",
       "      <td>83</td>\n",
       "      <td>87</td>\n",
       "      <td>P</td>\n",
       "    </tr>\n",
       "    <tr>\n",
       "      <th>1</th>\n",
       "      <td>80</td>\n",
       "      <td>98</td>\n",
       "      <td>90</td>\n",
       "      <td>F</td>\n",
       "    </tr>\n",
       "    <tr>\n",
       "      <th>2</th>\n",
       "      <td>10</td>\n",
       "      <td>50</td>\n",
       "      <td>85</td>\n",
       "      <td>P</td>\n",
       "    </tr>\n",
       "    <tr>\n",
       "      <th>3</th>\n",
       "      <td>8</td>\n",
       "      <td>16</td>\n",
       "      <td>57</td>\n",
       "      <td>F</td>\n",
       "    </tr>\n",
       "    <tr>\n",
       "      <th>4</th>\n",
       "      <td>20</td>\n",
       "      <td>70</td>\n",
       "      <td>30</td>\n",
       "      <td>P</td>\n",
       "    </tr>\n",
       "    <tr>\n",
       "      <th>5</th>\n",
       "      <td>90</td>\n",
       "      <td>31</td>\n",
       "      <td>78</td>\n",
       "      <td>P</td>\n",
       "    </tr>\n",
       "    <tr>\n",
       "      <th>6</th>\n",
       "      <td>38</td>\n",
       "      <td>90</td>\n",
       "      <td>75</td>\n",
       "      <td>P</td>\n",
       "    </tr>\n",
       "    <tr>\n",
       "      <th>7</th>\n",
       "      <td>42</td>\n",
       "      <td>48</td>\n",
       "      <td>69</td>\n",
       "      <td>P</td>\n",
       "    </tr>\n",
       "    <tr>\n",
       "      <th>8</th>\n",
       "      <td>57</td>\n",
       "      <td>67</td>\n",
       "      <td>83</td>\n",
       "      <td>F</td>\n",
       "    </tr>\n",
       "    <tr>\n",
       "      <th>9</th>\n",
       "      <td>58</td>\n",
       "      <td>78</td>\n",
       "      <td>85</td>\n",
       "      <td>P</td>\n",
       "    </tr>\n",
       "    <tr>\n",
       "      <th>10</th>\n",
       "      <td>90</td>\n",
       "      <td>55</td>\n",
       "      <td>90</td>\n",
       "      <td>P</td>\n",
       "    </tr>\n",
       "    <tr>\n",
       "      <th>11</th>\n",
       "      <td>2</td>\n",
       "      <td>75</td>\n",
       "      <td>85</td>\n",
       "      <td>P</td>\n",
       "    </tr>\n",
       "    <tr>\n",
       "      <th>12</th>\n",
       "      <td>34</td>\n",
       "      <td>20</td>\n",
       "      <td>99</td>\n",
       "      <td>P</td>\n",
       "    </tr>\n",
       "    <tr>\n",
       "      <th>13</th>\n",
       "      <td>84</td>\n",
       "      <td>80</td>\n",
       "      <td>97</td>\n",
       "      <td>P</td>\n",
       "    </tr>\n",
       "    <tr>\n",
       "      <th>14</th>\n",
       "      <td>19</td>\n",
       "      <td>74</td>\n",
       "      <td>38</td>\n",
       "      <td>P</td>\n",
       "    </tr>\n",
       "    <tr>\n",
       "      <th>15</th>\n",
       "      <td>74</td>\n",
       "      <td>86</td>\n",
       "      <td>95</td>\n",
       "      <td>F</td>\n",
       "    </tr>\n",
       "    <tr>\n",
       "      <th>16</th>\n",
       "      <td>13</td>\n",
       "      <td>12</td>\n",
       "      <td>10</td>\n",
       "      <td>P</td>\n",
       "    </tr>\n",
       "    <tr>\n",
       "      <th>17</th>\n",
       "      <td>67</td>\n",
       "      <td>100</td>\n",
       "      <td>99</td>\n",
       "      <td>P</td>\n",
       "    </tr>\n",
       "    <tr>\n",
       "      <th>18</th>\n",
       "      <td>84</td>\n",
       "      <td>63</td>\n",
       "      <td>62</td>\n",
       "      <td>P</td>\n",
       "    </tr>\n",
       "    <tr>\n",
       "      <th>19</th>\n",
       "      <td>31</td>\n",
       "      <td>36</td>\n",
       "      <td>47</td>\n",
       "      <td>F</td>\n",
       "    </tr>\n",
       "    <tr>\n",
       "      <th>20</th>\n",
       "      <td>82</td>\n",
       "      <td>91</td>\n",
       "      <td>17</td>\n",
       "      <td>F</td>\n",
       "    </tr>\n",
       "    <tr>\n",
       "      <th>21</th>\n",
       "      <td>67</td>\n",
       "      <td>19</td>\n",
       "      <td>31</td>\n",
       "      <td>F</td>\n",
       "    </tr>\n",
       "    <tr>\n",
       "      <th>22</th>\n",
       "      <td>99</td>\n",
       "      <td>69</td>\n",
       "      <td>77</td>\n",
       "      <td>P</td>\n",
       "    </tr>\n",
       "    <tr>\n",
       "      <th>23</th>\n",
       "      <td>76</td>\n",
       "      <td>58</td>\n",
       "      <td>92</td>\n",
       "      <td>P</td>\n",
       "    </tr>\n",
       "    <tr>\n",
       "      <th>24</th>\n",
       "      <td>96</td>\n",
       "      <td>85</td>\n",
       "      <td>13</td>\n",
       "      <td>P</td>\n",
       "    </tr>\n",
       "    <tr>\n",
       "      <th>25</th>\n",
       "      <td>59</td>\n",
       "      <td>77</td>\n",
       "      <td>44</td>\n",
       "      <td>P</td>\n",
       "    </tr>\n",
       "    <tr>\n",
       "      <th>26</th>\n",
       "      <td>37</td>\n",
       "      <td>5</td>\n",
       "      <td>3</td>\n",
       "      <td>P</td>\n",
       "    </tr>\n",
       "    <tr>\n",
       "      <th>27</th>\n",
       "      <td>24</td>\n",
       "      <td>31</td>\n",
       "      <td>83</td>\n",
       "      <td>P</td>\n",
       "    </tr>\n",
       "    <tr>\n",
       "      <th>28</th>\n",
       "      <td>3</td>\n",
       "      <td>57</td>\n",
       "      <td>21</td>\n",
       "      <td>P</td>\n",
       "    </tr>\n",
       "    <tr>\n",
       "      <th>29</th>\n",
       "      <td>57</td>\n",
       "      <td>72</td>\n",
       "      <td>38</td>\n",
       "      <td>P</td>\n",
       "    </tr>\n",
       "    <tr>\n",
       "      <th>30</th>\n",
       "      <td>62</td>\n",
       "      <td>89</td>\n",
       "      <td>70</td>\n",
       "      <td>P</td>\n",
       "    </tr>\n",
       "  </tbody>\n",
       "</table>\n",
       "</div>"
      ],
      "text/plain": [
       "    Calculus1  Calculus2  linear_alg pass_fail\n",
       "0          56         83          87         P\n",
       "1          80         98          90         F\n",
       "2          10         50          85         P\n",
       "3           8         16          57         F\n",
       "4          20         70          30         P\n",
       "5          90         31          78         P\n",
       "6          38         90          75         P\n",
       "7          42         48          69         P\n",
       "8          57         67          83         F\n",
       "9          58         78          85         P\n",
       "10         90         55          90         P\n",
       "11          2         75          85         P\n",
       "12         34         20          99         P\n",
       "13         84         80          97         P\n",
       "14         19         74          38         P\n",
       "15         74         86          95         F\n",
       "16         13         12          10         P\n",
       "17         67        100          99         P\n",
       "18         84         63          62         P\n",
       "19         31         36          47         F\n",
       "20         82         91          17         F\n",
       "21         67         19          31         F\n",
       "22         99         69          77         P\n",
       "23         76         58          92         P\n",
       "24         96         85          13         P\n",
       "25         59         77          44         P\n",
       "26         37          5           3         P\n",
       "27         24         31          83         P\n",
       "28          3         57          21         P\n",
       "29         57         72          38         P\n",
       "30         62         89          70         P"
      ]
     },
     "execution_count": 71,
     "metadata": {},
     "output_type": "execute_result"
    }
   ],
   "source": [
    "math_df = pd.DataFrame(\n",
    "    {'Calculus1':[56,80,10,8,20,90,38,42,57,58,90,2,\n",
    "                  34,84,19,74,13,67,84,31,82,67,99,\n",
    "                  76,96,59,37,24,3,57,62],\n",
    "     'Calculus2':[83,98,50,16,70,31,90,48,67,78,55,\n",
    "                  75,20,80,74,86,12,100,63,36,91,\n",
    "                  19,69,58,85,77,5,31,57,72,89],\n",
    "     'linear_alg':[87,90,85,57,30,78,75,69,83,85,90,\n",
    "                   85,99,97, 38,95,10,99,62,47,17,\n",
    "                   31,77,92,13,44,3,83,21,38,70],\n",
    "     'pass_fail':['P','F','P','F','P','P','P','P',\n",
    "                  'F','P','P','P','P','P','P','F',\n",
    "                  'P','P','P','F','F','F','P','P',\n",
    "                  'P','P','P','P','P','P','P']})\n",
    "math_df"
   ]
  },
  {
   "cell_type": "markdown",
   "metadata": {},
   "source": [
    "At this juncture, we cannot build a model with categorical values until and unless they are binarized using a dictionary mapping.  A passing score will be designated by a 1, and failing score with a 0, respectively."
   ]
  },
  {
   "cell_type": "code",
   "execution_count": 72,
   "metadata": {},
   "outputs": [
    {
     "data": {
      "text/html": [
       "<div>\n",
       "<style scoped>\n",
       "    .dataframe tbody tr th:only-of-type {\n",
       "        vertical-align: middle;\n",
       "    }\n",
       "\n",
       "    .dataframe tbody tr th {\n",
       "        vertical-align: top;\n",
       "    }\n",
       "\n",
       "    .dataframe thead th {\n",
       "        text-align: right;\n",
       "    }\n",
       "</style>\n",
       "<table border=\"1\" class=\"dataframe\">\n",
       "  <thead>\n",
       "    <tr style=\"text-align: right;\">\n",
       "      <th></th>\n",
       "      <th>Calculus1</th>\n",
       "      <th>Calculus2</th>\n",
       "      <th>linear_alg</th>\n",
       "      <th>pass_fail</th>\n",
       "      <th>math_outcome</th>\n",
       "    </tr>\n",
       "  </thead>\n",
       "  <tbody>\n",
       "    <tr>\n",
       "      <th>0</th>\n",
       "      <td>56</td>\n",
       "      <td>83</td>\n",
       "      <td>87</td>\n",
       "      <td>P</td>\n",
       "      <td>1</td>\n",
       "    </tr>\n",
       "    <tr>\n",
       "      <th>1</th>\n",
       "      <td>80</td>\n",
       "      <td>98</td>\n",
       "      <td>90</td>\n",
       "      <td>F</td>\n",
       "      <td>0</td>\n",
       "    </tr>\n",
       "    <tr>\n",
       "      <th>2</th>\n",
       "      <td>10</td>\n",
       "      <td>50</td>\n",
       "      <td>85</td>\n",
       "      <td>P</td>\n",
       "      <td>1</td>\n",
       "    </tr>\n",
       "    <tr>\n",
       "      <th>3</th>\n",
       "      <td>8</td>\n",
       "      <td>16</td>\n",
       "      <td>57</td>\n",
       "      <td>F</td>\n",
       "      <td>0</td>\n",
       "    </tr>\n",
       "    <tr>\n",
       "      <th>4</th>\n",
       "      <td>20</td>\n",
       "      <td>70</td>\n",
       "      <td>30</td>\n",
       "      <td>P</td>\n",
       "      <td>1</td>\n",
       "    </tr>\n",
       "    <tr>\n",
       "      <th>5</th>\n",
       "      <td>90</td>\n",
       "      <td>31</td>\n",
       "      <td>78</td>\n",
       "      <td>P</td>\n",
       "      <td>1</td>\n",
       "    </tr>\n",
       "    <tr>\n",
       "      <th>6</th>\n",
       "      <td>38</td>\n",
       "      <td>90</td>\n",
       "      <td>75</td>\n",
       "      <td>P</td>\n",
       "      <td>1</td>\n",
       "    </tr>\n",
       "    <tr>\n",
       "      <th>7</th>\n",
       "      <td>42</td>\n",
       "      <td>48</td>\n",
       "      <td>69</td>\n",
       "      <td>P</td>\n",
       "      <td>1</td>\n",
       "    </tr>\n",
       "    <tr>\n",
       "      <th>8</th>\n",
       "      <td>57</td>\n",
       "      <td>67</td>\n",
       "      <td>83</td>\n",
       "      <td>F</td>\n",
       "      <td>0</td>\n",
       "    </tr>\n",
       "    <tr>\n",
       "      <th>9</th>\n",
       "      <td>58</td>\n",
       "      <td>78</td>\n",
       "      <td>85</td>\n",
       "      <td>P</td>\n",
       "      <td>1</td>\n",
       "    </tr>\n",
       "    <tr>\n",
       "      <th>10</th>\n",
       "      <td>90</td>\n",
       "      <td>55</td>\n",
       "      <td>90</td>\n",
       "      <td>P</td>\n",
       "      <td>1</td>\n",
       "    </tr>\n",
       "    <tr>\n",
       "      <th>11</th>\n",
       "      <td>2</td>\n",
       "      <td>75</td>\n",
       "      <td>85</td>\n",
       "      <td>P</td>\n",
       "      <td>1</td>\n",
       "    </tr>\n",
       "    <tr>\n",
       "      <th>12</th>\n",
       "      <td>34</td>\n",
       "      <td>20</td>\n",
       "      <td>99</td>\n",
       "      <td>P</td>\n",
       "      <td>1</td>\n",
       "    </tr>\n",
       "    <tr>\n",
       "      <th>13</th>\n",
       "      <td>84</td>\n",
       "      <td>80</td>\n",
       "      <td>97</td>\n",
       "      <td>P</td>\n",
       "      <td>1</td>\n",
       "    </tr>\n",
       "    <tr>\n",
       "      <th>14</th>\n",
       "      <td>19</td>\n",
       "      <td>74</td>\n",
       "      <td>38</td>\n",
       "      <td>P</td>\n",
       "      <td>1</td>\n",
       "    </tr>\n",
       "    <tr>\n",
       "      <th>15</th>\n",
       "      <td>74</td>\n",
       "      <td>86</td>\n",
       "      <td>95</td>\n",
       "      <td>F</td>\n",
       "      <td>0</td>\n",
       "    </tr>\n",
       "    <tr>\n",
       "      <th>16</th>\n",
       "      <td>13</td>\n",
       "      <td>12</td>\n",
       "      <td>10</td>\n",
       "      <td>P</td>\n",
       "      <td>1</td>\n",
       "    </tr>\n",
       "    <tr>\n",
       "      <th>17</th>\n",
       "      <td>67</td>\n",
       "      <td>100</td>\n",
       "      <td>99</td>\n",
       "      <td>P</td>\n",
       "      <td>1</td>\n",
       "    </tr>\n",
       "    <tr>\n",
       "      <th>18</th>\n",
       "      <td>84</td>\n",
       "      <td>63</td>\n",
       "      <td>62</td>\n",
       "      <td>P</td>\n",
       "      <td>1</td>\n",
       "    </tr>\n",
       "    <tr>\n",
       "      <th>19</th>\n",
       "      <td>31</td>\n",
       "      <td>36</td>\n",
       "      <td>47</td>\n",
       "      <td>F</td>\n",
       "      <td>0</td>\n",
       "    </tr>\n",
       "    <tr>\n",
       "      <th>20</th>\n",
       "      <td>82</td>\n",
       "      <td>91</td>\n",
       "      <td>17</td>\n",
       "      <td>F</td>\n",
       "      <td>0</td>\n",
       "    </tr>\n",
       "    <tr>\n",
       "      <th>21</th>\n",
       "      <td>67</td>\n",
       "      <td>19</td>\n",
       "      <td>31</td>\n",
       "      <td>F</td>\n",
       "      <td>0</td>\n",
       "    </tr>\n",
       "    <tr>\n",
       "      <th>22</th>\n",
       "      <td>99</td>\n",
       "      <td>69</td>\n",
       "      <td>77</td>\n",
       "      <td>P</td>\n",
       "      <td>1</td>\n",
       "    </tr>\n",
       "    <tr>\n",
       "      <th>23</th>\n",
       "      <td>76</td>\n",
       "      <td>58</td>\n",
       "      <td>92</td>\n",
       "      <td>P</td>\n",
       "      <td>1</td>\n",
       "    </tr>\n",
       "    <tr>\n",
       "      <th>24</th>\n",
       "      <td>96</td>\n",
       "      <td>85</td>\n",
       "      <td>13</td>\n",
       "      <td>P</td>\n",
       "      <td>1</td>\n",
       "    </tr>\n",
       "    <tr>\n",
       "      <th>25</th>\n",
       "      <td>59</td>\n",
       "      <td>77</td>\n",
       "      <td>44</td>\n",
       "      <td>P</td>\n",
       "      <td>1</td>\n",
       "    </tr>\n",
       "    <tr>\n",
       "      <th>26</th>\n",
       "      <td>37</td>\n",
       "      <td>5</td>\n",
       "      <td>3</td>\n",
       "      <td>P</td>\n",
       "      <td>1</td>\n",
       "    </tr>\n",
       "    <tr>\n",
       "      <th>27</th>\n",
       "      <td>24</td>\n",
       "      <td>31</td>\n",
       "      <td>83</td>\n",
       "      <td>P</td>\n",
       "      <td>1</td>\n",
       "    </tr>\n",
       "    <tr>\n",
       "      <th>28</th>\n",
       "      <td>3</td>\n",
       "      <td>57</td>\n",
       "      <td>21</td>\n",
       "      <td>P</td>\n",
       "      <td>1</td>\n",
       "    </tr>\n",
       "    <tr>\n",
       "      <th>29</th>\n",
       "      <td>57</td>\n",
       "      <td>72</td>\n",
       "      <td>38</td>\n",
       "      <td>P</td>\n",
       "      <td>1</td>\n",
       "    </tr>\n",
       "    <tr>\n",
       "      <th>30</th>\n",
       "      <td>62</td>\n",
       "      <td>89</td>\n",
       "      <td>70</td>\n",
       "      <td>P</td>\n",
       "      <td>1</td>\n",
       "    </tr>\n",
       "  </tbody>\n",
       "</table>\n",
       "</div>"
      ],
      "text/plain": [
       "    Calculus1  Calculus2  linear_alg pass_fail  math_outcome\n",
       "0          56         83          87         P             1\n",
       "1          80         98          90         F             0\n",
       "2          10         50          85         P             1\n",
       "3           8         16          57         F             0\n",
       "4          20         70          30         P             1\n",
       "5          90         31          78         P             1\n",
       "6          38         90          75         P             1\n",
       "7          42         48          69         P             1\n",
       "8          57         67          83         F             0\n",
       "9          58         78          85         P             1\n",
       "10         90         55          90         P             1\n",
       "11          2         75          85         P             1\n",
       "12         34         20          99         P             1\n",
       "13         84         80          97         P             1\n",
       "14         19         74          38         P             1\n",
       "15         74         86          95         F             0\n",
       "16         13         12          10         P             1\n",
       "17         67        100          99         P             1\n",
       "18         84         63          62         P             1\n",
       "19         31         36          47         F             0\n",
       "20         82         91          17         F             0\n",
       "21         67         19          31         F             0\n",
       "22         99         69          77         P             1\n",
       "23         76         58          92         P             1\n",
       "24         96         85          13         P             1\n",
       "25         59         77          44         P             1\n",
       "26         37          5           3         P             1\n",
       "27         24         31          83         P             1\n",
       "28          3         57          21         P             1\n",
       "29         57         72          38         P             1\n",
       "30         62         89          70         P             1"
      ]
     },
     "execution_count": 72,
     "metadata": {},
     "output_type": "execute_result"
    }
   ],
   "source": [
    "# binarize pass fail to 1 = pass, 0=fail\n",
    "# into new column\n",
    "math_df['math_outcome'] = math_df['pass_fail'].map({'P':1,'F':0})\n",
    "math_df"
   ]
  },
  {
   "cell_type": "markdown",
   "metadata": {},
   "source": [
    "Let us import the Linear Regression module from the scikit-learn library as follows:"
   ]
  },
  {
   "cell_type": "code",
   "execution_count": 73,
   "metadata": {},
   "outputs": [],
   "source": [
    "from sklearn.linear_model import LogisticRegression"
   ]
  },
  {
   "cell_type": "markdown",
   "metadata": {},
   "source": [
    "Instead of `OLS.fit()` like we did for linear regression, we will be using the `sm.Logit()` function call to pass in our *y* and *x*, respectively."
   ]
  },
  {
   "cell_type": "code",
   "execution_count": 74,
   "metadata": {},
   "outputs": [
    {
     "name": "stdout",
     "output_type": "stream",
     "text": [
      "Optimization terminated successfully.\n",
      "         Current function value: 0.525623\n",
      "         Iterations 5\n"
     ]
    },
    {
     "data": {
      "text/html": [
       "<table class=\"simpletable\">\n",
       "<caption>Logit Regression Results</caption>\n",
       "<tr>\n",
       "  <th>Dep. Variable:</th>     <td>math_outcome</td>   <th>  No. Observations:  </th>  <td>    31</td> \n",
       "</tr>\n",
       "<tr>\n",
       "  <th>Model:</th>                 <td>Logit</td>      <th>  Df Residuals:      </th>  <td>    27</td> \n",
       "</tr>\n",
       "<tr>\n",
       "  <th>Method:</th>                 <td>MLE</td>       <th>  Df Model:          </th>  <td>     3</td> \n",
       "</tr>\n",
       "<tr>\n",
       "  <th>Date:</th>            <td>Fri, 28 Jan 2022</td> <th>  Pseudo R-squ.:     </th>  <td>0.01598</td>\n",
       "</tr>\n",
       "<tr>\n",
       "  <th>Time:</th>                <td>13:30:26</td>     <th>  Log-Likelihood:    </th> <td> -16.294</td>\n",
       "</tr>\n",
       "<tr>\n",
       "  <th>converged:</th>             <td>True</td>       <th>  LL-Null:           </th> <td> -16.559</td>\n",
       "</tr>\n",
       "<tr>\n",
       "  <th>Covariance Type:</th>     <td>nonrobust</td>    <th>  LLR p-value:       </th>  <td>0.9124</td> \n",
       "</tr>\n",
       "</table>\n",
       "<table class=\"simpletable\">\n",
       "<tr>\n",
       "       <td></td>         <th>coef</th>     <th>std err</th>      <th>z</th>      <th>P>|z|</th>  <th>[0.025</th>    <th>0.975]</th>  \n",
       "</tr>\n",
       "<tr>\n",
       "  <th>const</th>      <td>    1.1325</td> <td>    1.278</td> <td>    0.886</td> <td> 0.376</td> <td>   -1.373</td> <td>    3.638</td>\n",
       "</tr>\n",
       "<tr>\n",
       "  <th>Calculus1</th>  <td>   -0.0106</td> <td>    0.016</td> <td>   -0.647</td> <td> 0.518</td> <td>   -0.043</td> <td>    0.022</td>\n",
       "</tr>\n",
       "<tr>\n",
       "  <th>Calculus2</th>  <td>    0.0061</td> <td>    0.018</td> <td>    0.347</td> <td> 0.728</td> <td>   -0.028</td> <td>    0.041</td>\n",
       "</tr>\n",
       "<tr>\n",
       "  <th>linear_alg</th> <td>    0.0049</td> <td>    0.015</td> <td>    0.328</td> <td> 0.743</td> <td>   -0.024</td> <td>    0.034</td>\n",
       "</tr>\n",
       "</table>"
      ],
      "text/plain": [
       "<class 'statsmodels.iolib.summary.Summary'>\n",
       "\"\"\"\n",
       "                           Logit Regression Results                           \n",
       "==============================================================================\n",
       "Dep. Variable:           math_outcome   No. Observations:                   31\n",
       "Model:                          Logit   Df Residuals:                       27\n",
       "Method:                           MLE   Df Model:                            3\n",
       "Date:                Fri, 28 Jan 2022   Pseudo R-squ.:                 0.01598\n",
       "Time:                        13:30:26   Log-Likelihood:                -16.294\n",
       "converged:                       True   LL-Null:                       -16.559\n",
       "Covariance Type:            nonrobust   LLR p-value:                    0.9124\n",
       "==============================================================================\n",
       "                 coef    std err          z      P>|z|      [0.025      0.975]\n",
       "------------------------------------------------------------------------------\n",
       "const          1.1325      1.278      0.886      0.376      -1.373       3.638\n",
       "Calculus1     -0.0106      0.016     -0.647      0.518      -0.043       0.022\n",
       "Calculus2      0.0061      0.018      0.347      0.728      -0.028       0.041\n",
       "linear_alg     0.0049      0.015      0.328      0.743      -0.024       0.034\n",
       "==============================================================================\n",
       "\"\"\""
      ]
     },
     "execution_count": 74,
     "metadata": {},
     "output_type": "execute_result"
    }
   ],
   "source": [
    "# we can also drop the columns that we \n",
    "# will not be using\n",
    "logit_X = math_df.drop(columns=['pass_fail', \n",
    "                                'math_outcome'])\n",
    "logit_X = sm.add_constant(logit_X)\n",
    "logit_y = math_df['math_outcome']\n",
    "\n",
    "# notice the sm.Logit() function call\n",
    "log_results = sm.Logit(logit_y,logit_X).fit()\n",
    "log_results.summary()"
   ]
  },
  {
   "cell_type": "markdown",
   "metadata": {},
   "source": [
    "## Decision Trees"
   ]
  },
  {
   "cell_type": "markdown",
   "metadata": {},
   "source": [
    "Let us import the Decision Tree Classifier from `scikit-learn`."
   ]
  },
  {
   "cell_type": "code",
   "execution_count": 75,
   "metadata": {},
   "outputs": [],
   "source": [
    "from sklearn import tree\n",
    "from sklearn.tree import DecisionTreeClassifier"
   ]
  },
  {
   "cell_type": "markdown",
   "metadata": {},
   "source": [
    "We will be using the `mtcars` dataset from `R`, and will have to import from `statsmodels` into `Python` first."
   ]
  },
  {
   "cell_type": "code",
   "execution_count": 76,
   "metadata": {},
   "outputs": [
    {
     "data": {
      "text/html": [
       "<div>\n",
       "<style scoped>\n",
       "    .dataframe tbody tr th:only-of-type {\n",
       "        vertical-align: middle;\n",
       "    }\n",
       "\n",
       "    .dataframe tbody tr th {\n",
       "        vertical-align: top;\n",
       "    }\n",
       "\n",
       "    .dataframe thead th {\n",
       "        text-align: right;\n",
       "    }\n",
       "</style>\n",
       "<table border=\"1\" class=\"dataframe\">\n",
       "  <thead>\n",
       "    <tr style=\"text-align: right;\">\n",
       "      <th></th>\n",
       "      <th>mpg</th>\n",
       "      <th>cyl</th>\n",
       "      <th>disp</th>\n",
       "      <th>hp</th>\n",
       "      <th>drat</th>\n",
       "      <th>wt</th>\n",
       "      <th>qsec</th>\n",
       "      <th>vs</th>\n",
       "      <th>am</th>\n",
       "      <th>gear</th>\n",
       "      <th>carb</th>\n",
       "    </tr>\n",
       "  </thead>\n",
       "  <tbody>\n",
       "    <tr>\n",
       "      <th>Mazda RX4</th>\n",
       "      <td>21.0</td>\n",
       "      <td>6</td>\n",
       "      <td>160.0</td>\n",
       "      <td>110</td>\n",
       "      <td>3.90</td>\n",
       "      <td>2.620</td>\n",
       "      <td>16.46</td>\n",
       "      <td>0</td>\n",
       "      <td>1</td>\n",
       "      <td>4</td>\n",
       "      <td>4</td>\n",
       "    </tr>\n",
       "    <tr>\n",
       "      <th>Mazda RX4 Wag</th>\n",
       "      <td>21.0</td>\n",
       "      <td>6</td>\n",
       "      <td>160.0</td>\n",
       "      <td>110</td>\n",
       "      <td>3.90</td>\n",
       "      <td>2.875</td>\n",
       "      <td>17.02</td>\n",
       "      <td>0</td>\n",
       "      <td>1</td>\n",
       "      <td>4</td>\n",
       "      <td>4</td>\n",
       "    </tr>\n",
       "    <tr>\n",
       "      <th>Datsun 710</th>\n",
       "      <td>22.8</td>\n",
       "      <td>4</td>\n",
       "      <td>108.0</td>\n",
       "      <td>93</td>\n",
       "      <td>3.85</td>\n",
       "      <td>2.320</td>\n",
       "      <td>18.61</td>\n",
       "      <td>1</td>\n",
       "      <td>1</td>\n",
       "      <td>4</td>\n",
       "      <td>1</td>\n",
       "    </tr>\n",
       "    <tr>\n",
       "      <th>Hornet 4 Drive</th>\n",
       "      <td>21.4</td>\n",
       "      <td>6</td>\n",
       "      <td>258.0</td>\n",
       "      <td>110</td>\n",
       "      <td>3.08</td>\n",
       "      <td>3.215</td>\n",
       "      <td>19.44</td>\n",
       "      <td>1</td>\n",
       "      <td>0</td>\n",
       "      <td>3</td>\n",
       "      <td>1</td>\n",
       "    </tr>\n",
       "    <tr>\n",
       "      <th>Hornet Sportabout</th>\n",
       "      <td>18.7</td>\n",
       "      <td>8</td>\n",
       "      <td>360.0</td>\n",
       "      <td>175</td>\n",
       "      <td>3.15</td>\n",
       "      <td>3.440</td>\n",
       "      <td>17.02</td>\n",
       "      <td>0</td>\n",
       "      <td>0</td>\n",
       "      <td>3</td>\n",
       "      <td>2</td>\n",
       "    </tr>\n",
       "    <tr>\n",
       "      <th>Valiant</th>\n",
       "      <td>18.1</td>\n",
       "      <td>6</td>\n",
       "      <td>225.0</td>\n",
       "      <td>105</td>\n",
       "      <td>2.76</td>\n",
       "      <td>3.460</td>\n",
       "      <td>20.22</td>\n",
       "      <td>1</td>\n",
       "      <td>0</td>\n",
       "      <td>3</td>\n",
       "      <td>1</td>\n",
       "    </tr>\n",
       "    <tr>\n",
       "      <th>Duster 360</th>\n",
       "      <td>14.3</td>\n",
       "      <td>8</td>\n",
       "      <td>360.0</td>\n",
       "      <td>245</td>\n",
       "      <td>3.21</td>\n",
       "      <td>3.570</td>\n",
       "      <td>15.84</td>\n",
       "      <td>0</td>\n",
       "      <td>0</td>\n",
       "      <td>3</td>\n",
       "      <td>4</td>\n",
       "    </tr>\n",
       "    <tr>\n",
       "      <th>Merc 240D</th>\n",
       "      <td>24.4</td>\n",
       "      <td>4</td>\n",
       "      <td>146.7</td>\n",
       "      <td>62</td>\n",
       "      <td>3.69</td>\n",
       "      <td>3.190</td>\n",
       "      <td>20.00</td>\n",
       "      <td>1</td>\n",
       "      <td>0</td>\n",
       "      <td>4</td>\n",
       "      <td>2</td>\n",
       "    </tr>\n",
       "    <tr>\n",
       "      <th>Merc 230</th>\n",
       "      <td>22.8</td>\n",
       "      <td>4</td>\n",
       "      <td>140.8</td>\n",
       "      <td>95</td>\n",
       "      <td>3.92</td>\n",
       "      <td>3.150</td>\n",
       "      <td>22.90</td>\n",
       "      <td>1</td>\n",
       "      <td>0</td>\n",
       "      <td>4</td>\n",
       "      <td>2</td>\n",
       "    </tr>\n",
       "    <tr>\n",
       "      <th>Merc 280</th>\n",
       "      <td>19.2</td>\n",
       "      <td>6</td>\n",
       "      <td>167.6</td>\n",
       "      <td>123</td>\n",
       "      <td>3.92</td>\n",
       "      <td>3.440</td>\n",
       "      <td>18.30</td>\n",
       "      <td>1</td>\n",
       "      <td>0</td>\n",
       "      <td>4</td>\n",
       "      <td>4</td>\n",
       "    </tr>\n",
       "    <tr>\n",
       "      <th>Merc 280C</th>\n",
       "      <td>17.8</td>\n",
       "      <td>6</td>\n",
       "      <td>167.6</td>\n",
       "      <td>123</td>\n",
       "      <td>3.92</td>\n",
       "      <td>3.440</td>\n",
       "      <td>18.90</td>\n",
       "      <td>1</td>\n",
       "      <td>0</td>\n",
       "      <td>4</td>\n",
       "      <td>4</td>\n",
       "    </tr>\n",
       "    <tr>\n",
       "      <th>Merc 450SE</th>\n",
       "      <td>16.4</td>\n",
       "      <td>8</td>\n",
       "      <td>275.8</td>\n",
       "      <td>180</td>\n",
       "      <td>3.07</td>\n",
       "      <td>4.070</td>\n",
       "      <td>17.40</td>\n",
       "      <td>0</td>\n",
       "      <td>0</td>\n",
       "      <td>3</td>\n",
       "      <td>3</td>\n",
       "    </tr>\n",
       "    <tr>\n",
       "      <th>Merc 450SL</th>\n",
       "      <td>17.3</td>\n",
       "      <td>8</td>\n",
       "      <td>275.8</td>\n",
       "      <td>180</td>\n",
       "      <td>3.07</td>\n",
       "      <td>3.730</td>\n",
       "      <td>17.60</td>\n",
       "      <td>0</td>\n",
       "      <td>0</td>\n",
       "      <td>3</td>\n",
       "      <td>3</td>\n",
       "    </tr>\n",
       "    <tr>\n",
       "      <th>Merc 450SLC</th>\n",
       "      <td>15.2</td>\n",
       "      <td>8</td>\n",
       "      <td>275.8</td>\n",
       "      <td>180</td>\n",
       "      <td>3.07</td>\n",
       "      <td>3.780</td>\n",
       "      <td>18.00</td>\n",
       "      <td>0</td>\n",
       "      <td>0</td>\n",
       "      <td>3</td>\n",
       "      <td>3</td>\n",
       "    </tr>\n",
       "    <tr>\n",
       "      <th>Cadillac Fleetwood</th>\n",
       "      <td>10.4</td>\n",
       "      <td>8</td>\n",
       "      <td>472.0</td>\n",
       "      <td>205</td>\n",
       "      <td>2.93</td>\n",
       "      <td>5.250</td>\n",
       "      <td>17.98</td>\n",
       "      <td>0</td>\n",
       "      <td>0</td>\n",
       "      <td>3</td>\n",
       "      <td>4</td>\n",
       "    </tr>\n",
       "    <tr>\n",
       "      <th>Lincoln Continental</th>\n",
       "      <td>10.4</td>\n",
       "      <td>8</td>\n",
       "      <td>460.0</td>\n",
       "      <td>215</td>\n",
       "      <td>3.00</td>\n",
       "      <td>5.424</td>\n",
       "      <td>17.82</td>\n",
       "      <td>0</td>\n",
       "      <td>0</td>\n",
       "      <td>3</td>\n",
       "      <td>4</td>\n",
       "    </tr>\n",
       "    <tr>\n",
       "      <th>Chrysler Imperial</th>\n",
       "      <td>14.7</td>\n",
       "      <td>8</td>\n",
       "      <td>440.0</td>\n",
       "      <td>230</td>\n",
       "      <td>3.23</td>\n",
       "      <td>5.345</td>\n",
       "      <td>17.42</td>\n",
       "      <td>0</td>\n",
       "      <td>0</td>\n",
       "      <td>3</td>\n",
       "      <td>4</td>\n",
       "    </tr>\n",
       "    <tr>\n",
       "      <th>Fiat 128</th>\n",
       "      <td>32.4</td>\n",
       "      <td>4</td>\n",
       "      <td>78.7</td>\n",
       "      <td>66</td>\n",
       "      <td>4.08</td>\n",
       "      <td>2.200</td>\n",
       "      <td>19.47</td>\n",
       "      <td>1</td>\n",
       "      <td>1</td>\n",
       "      <td>4</td>\n",
       "      <td>1</td>\n",
       "    </tr>\n",
       "    <tr>\n",
       "      <th>Honda Civic</th>\n",
       "      <td>30.4</td>\n",
       "      <td>4</td>\n",
       "      <td>75.7</td>\n",
       "      <td>52</td>\n",
       "      <td>4.93</td>\n",
       "      <td>1.615</td>\n",
       "      <td>18.52</td>\n",
       "      <td>1</td>\n",
       "      <td>1</td>\n",
       "      <td>4</td>\n",
       "      <td>2</td>\n",
       "    </tr>\n",
       "    <tr>\n",
       "      <th>Toyota Corolla</th>\n",
       "      <td>33.9</td>\n",
       "      <td>4</td>\n",
       "      <td>71.1</td>\n",
       "      <td>65</td>\n",
       "      <td>4.22</td>\n",
       "      <td>1.835</td>\n",
       "      <td>19.90</td>\n",
       "      <td>1</td>\n",
       "      <td>1</td>\n",
       "      <td>4</td>\n",
       "      <td>1</td>\n",
       "    </tr>\n",
       "    <tr>\n",
       "      <th>Toyota Corona</th>\n",
       "      <td>21.5</td>\n",
       "      <td>4</td>\n",
       "      <td>120.1</td>\n",
       "      <td>97</td>\n",
       "      <td>3.70</td>\n",
       "      <td>2.465</td>\n",
       "      <td>20.01</td>\n",
       "      <td>1</td>\n",
       "      <td>0</td>\n",
       "      <td>3</td>\n",
       "      <td>1</td>\n",
       "    </tr>\n",
       "    <tr>\n",
       "      <th>Dodge Challenger</th>\n",
       "      <td>15.5</td>\n",
       "      <td>8</td>\n",
       "      <td>318.0</td>\n",
       "      <td>150</td>\n",
       "      <td>2.76</td>\n",
       "      <td>3.520</td>\n",
       "      <td>16.87</td>\n",
       "      <td>0</td>\n",
       "      <td>0</td>\n",
       "      <td>3</td>\n",
       "      <td>2</td>\n",
       "    </tr>\n",
       "    <tr>\n",
       "      <th>AMC Javelin</th>\n",
       "      <td>15.2</td>\n",
       "      <td>8</td>\n",
       "      <td>304.0</td>\n",
       "      <td>150</td>\n",
       "      <td>3.15</td>\n",
       "      <td>3.435</td>\n",
       "      <td>17.30</td>\n",
       "      <td>0</td>\n",
       "      <td>0</td>\n",
       "      <td>3</td>\n",
       "      <td>2</td>\n",
       "    </tr>\n",
       "    <tr>\n",
       "      <th>Camaro Z28</th>\n",
       "      <td>13.3</td>\n",
       "      <td>8</td>\n",
       "      <td>350.0</td>\n",
       "      <td>245</td>\n",
       "      <td>3.73</td>\n",
       "      <td>3.840</td>\n",
       "      <td>15.41</td>\n",
       "      <td>0</td>\n",
       "      <td>0</td>\n",
       "      <td>3</td>\n",
       "      <td>4</td>\n",
       "    </tr>\n",
       "    <tr>\n",
       "      <th>Pontiac Firebird</th>\n",
       "      <td>19.2</td>\n",
       "      <td>8</td>\n",
       "      <td>400.0</td>\n",
       "      <td>175</td>\n",
       "      <td>3.08</td>\n",
       "      <td>3.845</td>\n",
       "      <td>17.05</td>\n",
       "      <td>0</td>\n",
       "      <td>0</td>\n",
       "      <td>3</td>\n",
       "      <td>2</td>\n",
       "    </tr>\n",
       "    <tr>\n",
       "      <th>Fiat X1-9</th>\n",
       "      <td>27.3</td>\n",
       "      <td>4</td>\n",
       "      <td>79.0</td>\n",
       "      <td>66</td>\n",
       "      <td>4.08</td>\n",
       "      <td>1.935</td>\n",
       "      <td>18.90</td>\n",
       "      <td>1</td>\n",
       "      <td>1</td>\n",
       "      <td>4</td>\n",
       "      <td>1</td>\n",
       "    </tr>\n",
       "    <tr>\n",
       "      <th>Porsche 914-2</th>\n",
       "      <td>26.0</td>\n",
       "      <td>4</td>\n",
       "      <td>120.3</td>\n",
       "      <td>91</td>\n",
       "      <td>4.43</td>\n",
       "      <td>2.140</td>\n",
       "      <td>16.70</td>\n",
       "      <td>0</td>\n",
       "      <td>1</td>\n",
       "      <td>5</td>\n",
       "      <td>2</td>\n",
       "    </tr>\n",
       "    <tr>\n",
       "      <th>Lotus Europa</th>\n",
       "      <td>30.4</td>\n",
       "      <td>4</td>\n",
       "      <td>95.1</td>\n",
       "      <td>113</td>\n",
       "      <td>3.77</td>\n",
       "      <td>1.513</td>\n",
       "      <td>16.90</td>\n",
       "      <td>1</td>\n",
       "      <td>1</td>\n",
       "      <td>5</td>\n",
       "      <td>2</td>\n",
       "    </tr>\n",
       "    <tr>\n",
       "      <th>Ford Pantera L</th>\n",
       "      <td>15.8</td>\n",
       "      <td>8</td>\n",
       "      <td>351.0</td>\n",
       "      <td>264</td>\n",
       "      <td>4.22</td>\n",
       "      <td>3.170</td>\n",
       "      <td>14.50</td>\n",
       "      <td>0</td>\n",
       "      <td>1</td>\n",
       "      <td>5</td>\n",
       "      <td>4</td>\n",
       "    </tr>\n",
       "    <tr>\n",
       "      <th>Ferrari Dino</th>\n",
       "      <td>19.7</td>\n",
       "      <td>6</td>\n",
       "      <td>145.0</td>\n",
       "      <td>175</td>\n",
       "      <td>3.62</td>\n",
       "      <td>2.770</td>\n",
       "      <td>15.50</td>\n",
       "      <td>0</td>\n",
       "      <td>1</td>\n",
       "      <td>5</td>\n",
       "      <td>6</td>\n",
       "    </tr>\n",
       "    <tr>\n",
       "      <th>Maserati Bora</th>\n",
       "      <td>15.0</td>\n",
       "      <td>8</td>\n",
       "      <td>301.0</td>\n",
       "      <td>335</td>\n",
       "      <td>3.54</td>\n",
       "      <td>3.570</td>\n",
       "      <td>14.60</td>\n",
       "      <td>0</td>\n",
       "      <td>1</td>\n",
       "      <td>5</td>\n",
       "      <td>8</td>\n",
       "    </tr>\n",
       "    <tr>\n",
       "      <th>Volvo 142E</th>\n",
       "      <td>21.4</td>\n",
       "      <td>4</td>\n",
       "      <td>121.0</td>\n",
       "      <td>109</td>\n",
       "      <td>4.11</td>\n",
       "      <td>2.780</td>\n",
       "      <td>18.60</td>\n",
       "      <td>1</td>\n",
       "      <td>1</td>\n",
       "      <td>4</td>\n",
       "      <td>2</td>\n",
       "    </tr>\n",
       "  </tbody>\n",
       "</table>\n",
       "</div>"
      ],
      "text/plain": [
       "                      mpg  cyl   disp   hp  drat     wt   qsec  vs  am  gear  \\\n",
       "Mazda RX4            21.0    6  160.0  110  3.90  2.620  16.46   0   1     4   \n",
       "Mazda RX4 Wag        21.0    6  160.0  110  3.90  2.875  17.02   0   1     4   \n",
       "Datsun 710           22.8    4  108.0   93  3.85  2.320  18.61   1   1     4   \n",
       "Hornet 4 Drive       21.4    6  258.0  110  3.08  3.215  19.44   1   0     3   \n",
       "Hornet Sportabout    18.7    8  360.0  175  3.15  3.440  17.02   0   0     3   \n",
       "Valiant              18.1    6  225.0  105  2.76  3.460  20.22   1   0     3   \n",
       "Duster 360           14.3    8  360.0  245  3.21  3.570  15.84   0   0     3   \n",
       "Merc 240D            24.4    4  146.7   62  3.69  3.190  20.00   1   0     4   \n",
       "Merc 230             22.8    4  140.8   95  3.92  3.150  22.90   1   0     4   \n",
       "Merc 280             19.2    6  167.6  123  3.92  3.440  18.30   1   0     4   \n",
       "Merc 280C            17.8    6  167.6  123  3.92  3.440  18.90   1   0     4   \n",
       "Merc 450SE           16.4    8  275.8  180  3.07  4.070  17.40   0   0     3   \n",
       "Merc 450SL           17.3    8  275.8  180  3.07  3.730  17.60   0   0     3   \n",
       "Merc 450SLC          15.2    8  275.8  180  3.07  3.780  18.00   0   0     3   \n",
       "Cadillac Fleetwood   10.4    8  472.0  205  2.93  5.250  17.98   0   0     3   \n",
       "Lincoln Continental  10.4    8  460.0  215  3.00  5.424  17.82   0   0     3   \n",
       "Chrysler Imperial    14.7    8  440.0  230  3.23  5.345  17.42   0   0     3   \n",
       "Fiat 128             32.4    4   78.7   66  4.08  2.200  19.47   1   1     4   \n",
       "Honda Civic          30.4    4   75.7   52  4.93  1.615  18.52   1   1     4   \n",
       "Toyota Corolla       33.9    4   71.1   65  4.22  1.835  19.90   1   1     4   \n",
       "Toyota Corona        21.5    4  120.1   97  3.70  2.465  20.01   1   0     3   \n",
       "Dodge Challenger     15.5    8  318.0  150  2.76  3.520  16.87   0   0     3   \n",
       "AMC Javelin          15.2    8  304.0  150  3.15  3.435  17.30   0   0     3   \n",
       "Camaro Z28           13.3    8  350.0  245  3.73  3.840  15.41   0   0     3   \n",
       "Pontiac Firebird     19.2    8  400.0  175  3.08  3.845  17.05   0   0     3   \n",
       "Fiat X1-9            27.3    4   79.0   66  4.08  1.935  18.90   1   1     4   \n",
       "Porsche 914-2        26.0    4  120.3   91  4.43  2.140  16.70   0   1     5   \n",
       "Lotus Europa         30.4    4   95.1  113  3.77  1.513  16.90   1   1     5   \n",
       "Ford Pantera L       15.8    8  351.0  264  4.22  3.170  14.50   0   1     5   \n",
       "Ferrari Dino         19.7    6  145.0  175  3.62  2.770  15.50   0   1     5   \n",
       "Maserati Bora        15.0    8  301.0  335  3.54  3.570  14.60   0   1     5   \n",
       "Volvo 142E           21.4    4  121.0  109  4.11  2.780  18.60   1   1     4   \n",
       "\n",
       "                     carb  \n",
       "Mazda RX4               4  \n",
       "Mazda RX4 Wag           4  \n",
       "Datsun 710              1  \n",
       "Hornet 4 Drive          1  \n",
       "Hornet Sportabout       2  \n",
       "Valiant                 1  \n",
       "Duster 360              4  \n",
       "Merc 240D               2  \n",
       "Merc 230                2  \n",
       "Merc 280                4  \n",
       "Merc 280C               4  \n",
       "Merc 450SE              3  \n",
       "Merc 450SL              3  \n",
       "Merc 450SLC             3  \n",
       "Cadillac Fleetwood      4  \n",
       "Lincoln Continental     4  \n",
       "Chrysler Imperial       4  \n",
       "Fiat 128                1  \n",
       "Honda Civic             2  \n",
       "Toyota Corolla          1  \n",
       "Toyota Corona           1  \n",
       "Dodge Challenger        2  \n",
       "AMC Javelin             2  \n",
       "Camaro Z28              4  \n",
       "Pontiac Firebird        2  \n",
       "Fiat X1-9               1  \n",
       "Porsche 914-2           2  \n",
       "Lotus Europa            2  \n",
       "Ford Pantera L          4  \n",
       "Ferrari Dino            6  \n",
       "Maserati Bora           8  \n",
       "Volvo 142E              2  "
      ]
     },
     "execution_count": 76,
     "metadata": {},
     "output_type": "execute_result"
    }
   ],
   "source": [
    "mtcars = sm.datasets.get_rdataset(\"mtcars\", \"datasets\", cache=True).data\n",
    "mtcars = pd.DataFrame(mtcars)\n",
    "mtcars"
   ]
  },
  {
   "cell_type": "code",
   "execution_count": 77,
   "metadata": {},
   "outputs": [
    {
     "name": "stdout",
     "output_type": "stream",
     "text": [
      "mpg     float64\n",
      "cyl       int64\n",
      "disp    float64\n",
      "hp        int64\n",
      "drat    float64\n",
      "wt      float64\n",
      "qsec    float64\n",
      "vs        int64\n",
      "am        int64\n",
      "gear      int64\n",
      "carb      int64\n",
      "dtype: object \n",
      "\n",
      "Number of Rows: 32\n",
      "Number of Columns: 11\n"
     ]
    }
   ],
   "source": [
    "print(mtcars.dtypes, '\\n')\n",
    "print('Number of Rows:',mtcars.shape[0])\n",
    "print('Number of Columns:',mtcars.shape[1])"
   ]
  },
  {
   "cell_type": "code",
   "execution_count": 78,
   "metadata": {},
   "outputs": [
    {
     "name": "stdout",
     "output_type": "stream",
     "text": [
      "mpg     int32\n",
      "cyl     int32\n",
      "disp    int32\n",
      "hp      int32\n",
      "drat    int32\n",
      "wt      int32\n",
      "qsec    int32\n",
      "vs      int32\n",
      "am      int32\n",
      "gear    int32\n",
      "carb    int32\n",
      "dtype: object \n",
      "\n",
      "Number of Rows: 32\n",
      "Number of Columns: 11\n"
     ]
    }
   ],
   "source": [
    "# convert from float to int\n",
    "# otherwise DT won't run properly\n",
    "mtcars = mtcars.astype(int)\n",
    "print(mtcars.dtypes, '\\n')\n",
    "print('Number of Rows:',mtcars.shape[0])\n",
    "print('Number of Columns:',mtcars.shape[1])"
   ]
  },
  {
   "cell_type": "markdown",
   "metadata": {},
   "source": [
    "Similar to what we did for the logistic regression example, let us now create our *x* and *y* variables from this `mtcars` dataset."
   ]
  },
  {
   "cell_type": "code",
   "execution_count": 79,
   "metadata": {},
   "outputs": [],
   "source": [
    "mtcars_X = mtcars.drop(columns=['mpg'])\n",
    "mtcars_y = mtcars[['mpg']]"
   ]
  },
  {
   "cell_type": "markdown",
   "metadata": {},
   "source": [
    "Without importing any special graphical libraries, the decision tree output plot will look condensed, small, and virtually unreadable. We can comment out the figure size dimensions, but that still will not produce anything sophisticated in nature."
   ]
  },
  {
   "cell_type": "code",
   "execution_count": 80,
   "metadata": {},
   "outputs": [
    {
     "data": {
      "image/png": "[encoded data removed]",
      "text/plain": [
       "<Figure size 432x288 with 1 Axes>"
      ]
     },
     "metadata": {
      "needs_background": "light"
     },
     "output_type": "display_data"
    }
   ],
   "source": [
    "# fig,ax = plt.subplots(figsize = (30,30))\n",
    "tree_model = DecisionTreeClassifier(max_depth=2)\n",
    "tree_model = tree_model.fit(mtcars_X, mtcars_y)\n",
    "tree_plot = tree.plot_tree(tree_model)"
   ]
  },
  {
   "cell_type": "markdown",
   "metadata": {},
   "source": [
    "Another way to label our `x` and `y` variables is to assign the `x` variables to a list and use the `.remove()` function to remove our target variable from that list."
   ]
  },
  {
   "cell_type": "code",
   "execution_count": 81,
   "metadata": {},
   "outputs": [],
   "source": [
    "X_var = list(mtcars.columns)\n",
    "target = 'mpg'\n",
    "X_var.remove(target)"
   ]
  },
  {
   "cell_type": "markdown",
   "metadata": {},
   "source": [
    "For a more sophisticated graphical output, we can tap into scikit-learn's `export_graphviz` package in conjunction with another library called `pydotplus` which we will need to install separately."
   ]
  },
  {
   "cell_type": "code",
   "execution_count": 82,
   "metadata": {},
   "outputs": [],
   "source": [
    "# pip install pydotplus"
   ]
  },
  {
   "cell_type": "code",
   "execution_count": 83,
   "metadata": {},
   "outputs": [],
   "source": [
    "from sklearn.tree import export_graphviz\n",
    "import pydotplus\n",
    "from IPython.display import Image"
   ]
  },
  {
   "cell_type": "code",
   "execution_count": 84,
   "metadata": {},
   "outputs": [
    {
     "data": {
      "image/png": "[encoded data removed]",
      "text/plain": [
       "<IPython.core.display.Image object>"
      ]
     },
     "execution_count": 84,
     "metadata": {},
     "output_type": "execute_result"
    }
   ],
   "source": [
    "dot_data = export_graphviz(tree_model,\n",
    "                           feature_names = X_var,\n",
    "                           filled = True, \n",
    "                           out_file = None)\n",
    "graph = pydotplus.graph_from_dot_data(dot_data)\n",
    "Image(graph.create_png())"
   ]
  },
  {
   "cell_type": "markdown",
   "metadata": {},
   "source": [
    "## Basic Modeling and Cross-Validation in Python"
   ]
  },
  {
   "cell_type": "code",
   "execution_count": 85,
   "metadata": {},
   "outputs": [],
   "source": [
    "from sklearn.model_selection import train_test_split"
   ]
  },
  {
   "cell_type": "code",
   "execution_count": 86,
   "metadata": {},
   "outputs": [],
   "source": [
    "X_train, X_test, y_train, \\\n",
    "y_test = train_test_split(mtcars_X, mtcars_y, \n",
    "                          test_size = 0.25, \n",
    "                          random_state = 222)"
   ]
  },
  {
   "cell_type": "code",
   "execution_count": 87,
   "metadata": {},
   "outputs": [
    {
     "name": "stdout",
     "output_type": "stream",
     "text": [
      "Train Size: 0.75\n",
      "Test Size: 0.25\n"
     ]
    }
   ],
   "source": [
    "# get the shape of train and test sets\n",
    "train_shape = X_train.shape[0]\n",
    "test_shape = X_test.shape[0]\n",
    "\n",
    "# calculate the proportions of each, respectively\n",
    "train_percent = train_shape/(train_shape + test_shape)\n",
    "test_percent = test_shape/(train_shape + test_shape)\n",
    "\n",
    "print('Train Size:', train_percent) \n",
    "print('Test Size:', test_percent) "
   ]
  },
  {
   "cell_type": "markdown",
   "metadata": {},
   "source": [
    "Let us bring in a generalized linear model for this illustration."
   ]
  },
  {
   "cell_type": "code",
   "execution_count": 88,
   "metadata": {},
   "outputs": [
    {
     "data": {
      "text/html": [
       "<table class=\"simpletable\">\n",
       "<caption>OLS Regression Results</caption>\n",
       "<tr>\n",
       "  <th>Dep. Variable:</th>           <td>mpg</td>       <th>  R-squared (uncentered):</th>      <td>   0.995</td>\n",
       "</tr>\n",
       "<tr>\n",
       "  <th>Model:</th>                   <td>OLS</td>       <th>  Adj. R-squared (uncentered):</th> <td>   0.991</td>\n",
       "</tr>\n",
       "<tr>\n",
       "  <th>Method:</th>             <td>Least Squares</td>  <th>  F-statistic:       </th>          <td>   268.4</td>\n",
       "</tr>\n",
       "<tr>\n",
       "  <th>Date:</th>             <td>Fri, 28 Jan 2022</td> <th>  Prob (F-statistic):</th>          <td>3.28e-14</td>\n",
       "</tr>\n",
       "<tr>\n",
       "  <th>Time:</th>                 <td>13:30:27</td>     <th>  Log-Likelihood:    </th>          <td> -42.923</td>\n",
       "</tr>\n",
       "<tr>\n",
       "  <th>No. Observations:</th>      <td>    24</td>      <th>  AIC:               </th>          <td>   105.8</td>\n",
       "</tr>\n",
       "<tr>\n",
       "  <th>Df Residuals:</th>          <td>    14</td>      <th>  BIC:               </th>          <td>   117.6</td>\n",
       "</tr>\n",
       "<tr>\n",
       "  <th>Df Model:</th>              <td>    10</td>      <th>                     </th>              <td> </td>   \n",
       "</tr>\n",
       "<tr>\n",
       "  <th>Covariance Type:</th>      <td>nonrobust</td>    <th>                     </th>              <td> </td>   \n",
       "</tr>\n",
       "</table>\n",
       "<table class=\"simpletable\">\n",
       "<tr>\n",
       "    <td></td>      <th>coef</th>     <th>std err</th>      <th>t</th>      <th>P>|t|</th>  <th>[0.025</th>    <th>0.975]</th>  \n",
       "</tr>\n",
       "<tr>\n",
       "  <th>cyl</th>  <td>    0.4404</td> <td>    0.632</td> <td>    0.697</td> <td> 0.497</td> <td>   -0.915</td> <td>    1.796</td>\n",
       "</tr>\n",
       "<tr>\n",
       "  <th>disp</th> <td>    0.0128</td> <td>    0.012</td> <td>    1.055</td> <td> 0.309</td> <td>   -0.013</td> <td>    0.039</td>\n",
       "</tr>\n",
       "<tr>\n",
       "  <th>hp</th>   <td>   -0.0260</td> <td>    0.018</td> <td>   -1.451</td> <td> 0.169</td> <td>   -0.064</td> <td>    0.012</td>\n",
       "</tr>\n",
       "<tr>\n",
       "  <th>drat</th> <td>    3.0707</td> <td>    0.967</td> <td>    3.177</td> <td> 0.007</td> <td>    0.998</td> <td>    5.144</td>\n",
       "</tr>\n",
       "<tr>\n",
       "  <th>wt</th>   <td>   -2.2023</td> <td>    1.029</td> <td>   -2.140</td> <td> 0.050</td> <td>   -4.410</td> <td>    0.005</td>\n",
       "</tr>\n",
       "<tr>\n",
       "  <th>qsec</th> <td>    0.2337</td> <td>    0.329</td> <td>    0.710</td> <td> 0.489</td> <td>   -0.472</td> <td>    0.940</td>\n",
       "</tr>\n",
       "<tr>\n",
       "  <th>vs</th>   <td>    2.8995</td> <td>    1.755</td> <td>    1.652</td> <td> 0.121</td> <td>   -0.864</td> <td>    6.663</td>\n",
       "</tr>\n",
       "<tr>\n",
       "  <th>am</th>   <td>    1.0988</td> <td>    1.853</td> <td>    0.593</td> <td> 0.563</td> <td>   -2.875</td> <td>    5.073</td>\n",
       "</tr>\n",
       "<tr>\n",
       "  <th>gear</th> <td>    2.9577</td> <td>    1.068</td> <td>    2.770</td> <td> 0.015</td> <td>    0.668</td> <td>    5.248</td>\n",
       "</tr>\n",
       "<tr>\n",
       "  <th>carb</th> <td>   -0.6670</td> <td>    0.623</td> <td>   -1.071</td> <td> 0.302</td> <td>   -2.003</td> <td>    0.669</td>\n",
       "</tr>\n",
       "</table>\n",
       "<table class=\"simpletable\">\n",
       "<tr>\n",
       "  <th>Omnibus:</th>       <td> 0.090</td> <th>  Durbin-Watson:     </th> <td>   2.175</td>\n",
       "</tr>\n",
       "<tr>\n",
       "  <th>Prob(Omnibus):</th> <td> 0.956</td> <th>  Jarque-Bera (JB):  </th> <td>   0.288</td>\n",
       "</tr>\n",
       "<tr>\n",
       "  <th>Skew:</th>          <td>-0.099</td> <th>  Prob(JB):          </th> <td>   0.866</td>\n",
       "</tr>\n",
       "<tr>\n",
       "  <th>Kurtosis:</th>      <td> 2.501</td> <th>  Cond. No.          </th> <td>1.72e+03</td>\n",
       "</tr>\n",
       "</table><br/><br/>Warnings:<br/>[1] Standard Errors assume that the covariance matrix of the errors is correctly specified.<br/>[2] The condition number is large, 1.72e+03. This might indicate that there are<br/>strong multicollinearity or other numerical problems."
      ],
      "text/plain": [
       "<class 'statsmodels.iolib.summary.Summary'>\n",
       "\"\"\"\n",
       "                                 OLS Regression Results                                \n",
       "=======================================================================================\n",
       "Dep. Variable:                    mpg   R-squared (uncentered):                   0.995\n",
       "Model:                            OLS   Adj. R-squared (uncentered):              0.991\n",
       "Method:                 Least Squares   F-statistic:                              268.4\n",
       "Date:                Fri, 28 Jan 2022   Prob (F-statistic):                    3.28e-14\n",
       "Time:                        13:30:27   Log-Likelihood:                         -42.923\n",
       "No. Observations:                  24   AIC:                                      105.8\n",
       "Df Residuals:                      14   BIC:                                      117.6\n",
       "Df Model:                          10                                                  \n",
       "Covariance Type:            nonrobust                                                  \n",
       "==============================================================================\n",
       "                 coef    std err          t      P>|t|      [0.025      0.975]\n",
       "------------------------------------------------------------------------------\n",
       "cyl            0.4404      0.632      0.697      0.497      -0.915       1.796\n",
       "disp           0.0128      0.012      1.055      0.309      -0.013       0.039\n",
       "hp            -0.0260      0.018     -1.451      0.169      -0.064       0.012\n",
       "drat           3.0707      0.967      3.177      0.007       0.998       5.144\n",
       "wt            -2.2023      1.029     -2.140      0.050      -4.410       0.005\n",
       "qsec           0.2337      0.329      0.710      0.489      -0.472       0.940\n",
       "vs             2.8995      1.755      1.652      0.121      -0.864       6.663\n",
       "am             1.0988      1.853      0.593      0.563      -2.875       5.073\n",
       "gear           2.9577      1.068      2.770      0.015       0.668       5.248\n",
       "carb          -0.6670      0.623     -1.071      0.302      -2.003       0.669\n",
       "==============================================================================\n",
       "Omnibus:                        0.090   Durbin-Watson:                   2.175\n",
       "Prob(Omnibus):                  0.956   Jarque-Bera (JB):                0.288\n",
       "Skew:                          -0.099   Prob(JB):                        0.866\n",
       "Kurtosis:                       2.501   Cond. No.                     1.72e+03\n",
       "==============================================================================\n",
       "\n",
       "Warnings:\n",
       "[1] Standard Errors assume that the covariance matrix of the errors is correctly specified.\n",
       "[2] The condition number is large, 1.72e+03. This might indicate that there are\n",
       "strong multicollinearity or other numerical problems.\n",
       "\"\"\""
      ]
     },
     "execution_count": 88,
     "metadata": {},
     "output_type": "execute_result"
    }
   ],
   "source": [
    "mtcars_X = mtcars.drop(columns=['mpg'])\n",
    "mtcars_y = mtcars[['mpg']]\n",
    "\n",
    "# notice the sm.Logit() function call\n",
    "mtcars_model = sm.add_constant(X_train)\n",
    "\n",
    "# back to the linear model since target\n",
    "# variable is quantitative and continuous\n",
    "mtcars_model_results = OLS(y_train, X_train).fit()\n",
    "mtcars_model_results.summary()"
   ]
  },
  {
   "cell_type": "markdown",
   "metadata": {},
   "source": [
    "Before we can cross-validate, let us run our predictions of miles per gallon (mpg) on our holdout (test-set)."
   ]
  },
  {
   "cell_type": "code",
   "execution_count": 89,
   "metadata": {},
   "outputs": [
    {
     "data": {
      "text/plain": [
       "array([[28.6272386 ],\n",
       "       [20.42470718],\n",
       "       [27.03178327],\n",
       "       [17.84957047],\n",
       "       [23.85546714],\n",
       "       [20.41546445],\n",
       "       [30.53854242],\n",
       "       [20.01004787]])"
      ]
     },
     "execution_count": 89,
     "metadata": {},
     "output_type": "execute_result"
    }
   ],
   "source": [
    "mtcars_mod = LinearRegression()\n",
    "mtcars_mod.fit(X_train, y_train)\n",
    "y_pred = mtcars_mod.predict(X_test)\n",
    "y_pred"
   ]
  },
  {
   "cell_type": "markdown",
   "metadata": {},
   "source": [
    "While our predictions remain nested in an array, we will bring in a baseline measure from the `scikit-learn` library as follows:"
   ]
  },
  {
   "cell_type": "code",
   "execution_count": 90,
   "metadata": {},
   "outputs": [
    {
     "data": {
      "text/plain": [
       "3.3710342937771465"
      ]
     },
     "execution_count": 90,
     "metadata": {},
     "output_type": "execute_result"
    }
   ],
   "source": [
    "from sklearn.metrics import mean_absolute_error\n",
    "mean_absolute_error(y_test, y_pred)"
   ]
  },
  {
   "cell_type": "code",
   "execution_count": 91,
   "metadata": {},
   "outputs": [],
   "source": [
    "from sklearn.model_selection import cross_val_score\n",
    "from sklearn.model_selection import KFold\n",
    "from numpy import mean\n",
    "from numpy import absolute"
   ]
  },
  {
   "cell_type": "code",
   "execution_count": 92,
   "metadata": {},
   "outputs": [
    {
     "data": {
      "text/plain": [
       "2.175723736388353"
      ]
     },
     "execution_count": 92,
     "metadata": {},
     "output_type": "execute_result"
    }
   ],
   "source": [
    "# define cross-validation method to use\n",
    "cv = KFold(n_splits=5, random_state=222, shuffle=True)\n",
    "\n",
    "# use k-fold CV to evaluate model\n",
    "scores = cross_val_score(mtcars_mod, X_train, y_train, \n",
    "                         scoring='neg_mean_absolute_error',\n",
    "                         cv=cv, n_jobs=-1)\n",
    "\n",
    "# view mean absolute error\n",
    "ma_scores = mean(absolute(scores))\n",
    "ma_scores"
   ]
  },
  {
   "cell_type": "markdown",
   "metadata": {},
   "source": [
    "## K-Means Clustering"
   ]
  },
  {
   "cell_type": "markdown",
   "metadata": {},
   "source": [
    "A cluster is a collection of observations. We want to group these observations based on the most similar attributes. We use distance measures to measure similarity between clusters. This is one of the most widely-used unsupervised learning techniques that groups \"similar data points together and discover underlying patterns. To achieve this objective, K-means looks for a fixed number (*k*) of clusters in a dataset\" (Garbade, 2018)."
   ]
  },
  {
   "cell_type": "markdown",
   "metadata": {},
   "source": [
    "The *k* in k-means is the fixed number of centroids (center of cluster) for which the algorithm will take the mean for based on the number of clusters (collection of data points)."
   ]
  },
  {
   "cell_type": "code",
   "execution_count": 93,
   "metadata": {},
   "outputs": [],
   "source": [
    "# import the necessary library\n",
    "from sklearn.cluster import KMeans"
   ]
  },
  {
   "cell_type": "markdown",
   "metadata": {},
   "source": [
    "Let us split the mtcars dataset into 3 clusters."
   ]
  },
  {
   "cell_type": "code",
   "execution_count": 94,
   "metadata": {},
   "outputs": [
    {
     "name": "stdout",
     "output_type": "stream",
     "text": [
      "[[2.40625000e+01 4.62500000e+00 1.22000000e+02 9.68750000e+01\n",
      "  3.37500000e+00 2.00000000e+00 1.80000000e+01 7.50000000e-01\n",
      "  6.87500000e-01 4.12500000e+00 2.43750000e+00]\n",
      " [1.42222222e+01 8.00000000e+00 3.88222222e+02 2.32111111e+02\n",
      "  3.00000000e+00 3.66666667e+00 1.58888889e+01 0.00000000e+00\n",
      "  2.22222222e-01 3.44444444e+00 4.00000000e+00]\n",
      " [1.67142857e+01 7.42857143e+00 2.75714286e+02 1.50714286e+02\n",
      "  2.71428571e+00 3.14285714e+00 1.77142857e+01 2.85714286e-01\n",
      "  0.00000000e+00 3.00000000e+00 2.14285714e+00]]\n"
     ]
    }
   ],
   "source": [
    "kmeans = KMeans(n_clusters=3).fit(mtcars)\n",
    "centroids = kmeans.cluster_centers_\n",
    "print(centroids)"
   ]
  },
  {
   "cell_type": "code",
   "execution_count": 95,
   "metadata": {},
   "outputs": [
    {
     "data": {
      "text/html": [
       "<div>\n",
       "<style scoped>\n",
       "    .dataframe tbody tr th:only-of-type {\n",
       "        vertical-align: middle;\n",
       "    }\n",
       "\n",
       "    .dataframe tbody tr th {\n",
       "        vertical-align: top;\n",
       "    }\n",
       "\n",
       "    .dataframe thead th {\n",
       "        text-align: right;\n",
       "    }\n",
       "</style>\n",
       "<table border=\"1\" class=\"dataframe\">\n",
       "  <thead>\n",
       "    <tr style=\"text-align: right;\">\n",
       "      <th></th>\n",
       "      <th>mpg</th>\n",
       "      <th>cyl</th>\n",
       "      <th>disp</th>\n",
       "      <th>hp</th>\n",
       "      <th>drat</th>\n",
       "      <th>wt</th>\n",
       "      <th>qsec</th>\n",
       "      <th>vs</th>\n",
       "      <th>am</th>\n",
       "      <th>gear</th>\n",
       "      <th>carb</th>\n",
       "    </tr>\n",
       "  </thead>\n",
       "  <tbody>\n",
       "    <tr>\n",
       "      <th>0</th>\n",
       "      <td>14.222</td>\n",
       "      <td>8.000</td>\n",
       "      <td>388.222</td>\n",
       "      <td>232.111</td>\n",
       "      <td>3.000</td>\n",
       "      <td>3.667</td>\n",
       "      <td>15.889</td>\n",
       "      <td>0.000</td>\n",
       "      <td>0.222</td>\n",
       "      <td>3.444</td>\n",
       "      <td>4.000</td>\n",
       "    </tr>\n",
       "    <tr>\n",
       "      <th>1</th>\n",
       "      <td>24.062</td>\n",
       "      <td>4.625</td>\n",
       "      <td>122.000</td>\n",
       "      <td>96.875</td>\n",
       "      <td>3.375</td>\n",
       "      <td>2.000</td>\n",
       "      <td>18.000</td>\n",
       "      <td>0.750</td>\n",
       "      <td>0.688</td>\n",
       "      <td>4.125</td>\n",
       "      <td>2.438</td>\n",
       "    </tr>\n",
       "    <tr>\n",
       "      <th>2</th>\n",
       "      <td>16.714</td>\n",
       "      <td>7.429</td>\n",
       "      <td>275.714</td>\n",
       "      <td>150.714</td>\n",
       "      <td>2.714</td>\n",
       "      <td>3.143</td>\n",
       "      <td>17.714</td>\n",
       "      <td>0.286</td>\n",
       "      <td>0.000</td>\n",
       "      <td>3.000</td>\n",
       "      <td>2.143</td>\n",
       "    </tr>\n",
       "  </tbody>\n",
       "</table>\n",
       "</div>"
      ],
      "text/plain": [
       "      mpg    cyl     disp       hp   drat     wt    qsec     vs     am   gear  \\\n",
       "0  14.222  8.000  388.222  232.111  3.000  3.667  15.889  0.000  0.222  3.444   \n",
       "1  24.062  4.625  122.000   96.875  3.375  2.000  18.000  0.750  0.688  4.125   \n",
       "2  16.714  7.429  275.714  150.714  2.714  3.143  17.714  0.286  0.000  3.000   \n",
       "\n",
       "    carb  \n",
       "0  4.000  \n",
       "1  2.438  \n",
       "2  2.143  "
      ]
     },
     "execution_count": 95,
     "metadata": {},
     "output_type": "execute_result"
    }
   ],
   "source": [
    "kmeans1 = KMeans(n_clusters=3, \n",
    "                 random_state=222).fit(mtcars)\n",
    "centroids1 = pd.DataFrame(kmeans1.cluster_centers_,\n",
    "columns = mtcars.columns)\n",
    "pd.set_option('precision', 3)\n",
    "centroids1"
   ]
  },
  {
   "cell_type": "code",
   "execution_count": 96,
   "metadata": {},
   "outputs": [
    {
     "name": "stdout",
     "output_type": "stream",
     "text": [
      "Cluster 0 (9 members): 46660.67 within cluster\n",
      "Cluster 1 (16 members): 32812.31 within cluster\n",
      "Cluster 2 (7 members): 11852.00 within cluster\n"
     ]
    }
   ],
   "source": [
    "withinClusterSS = [0] * 3\n",
    "clusterCount = [0] * 3\n",
    "for cluster, distance in zip(kmeans1.labels_,\n",
    "                             kmeans1.transform(mtcars)):\n",
    "    withinClusterSS[cluster] += distance[cluster]**2\n",
    "    clusterCount[cluster] += 1\n",
    "for cluster, withClustSS in enumerate(withinClusterSS):\n",
    "    print('Cluster {} ({} members): {:5.2f} within cluster'.format(cluster,\n",
    "clusterCount[cluster], withinClusterSS[cluster]))"
   ]
  },
  {
   "cell_type": "markdown",
   "metadata": {},
   "source": [
    "But what is the appropriate number of clusters that we should generate? Can we do better with more clusters?"
   ]
  },
  {
   "cell_type": "code",
   "execution_count": 97,
   "metadata": {},
   "outputs": [
    {
     "name": "stdout",
     "output_type": "stream",
     "text": [
      "[623046.28125, 152539.1984126984, 90847.05753968253, 62822.046428571426, 42672.45238095238, 34301.433333333334]\n"
     ]
    },
    {
     "data": {
      "image/png": "[encoded data removed]",
      "text/plain": [
       "<Figure size 432x360 with 1 Axes>"
      ]
     },
     "metadata": {
      "needs_background": "light"
     },
     "output_type": "display_data"
    }
   ],
   "source": [
    "# let's create segments using K-means clustering\n",
    "# using elbow method to find no of clusters\n",
    "wcss=[]\n",
    "for i in range(1,7):\n",
    "    kmeans= KMeans(n_clusters = i, \n",
    "                   init = 'k-means++', \n",
    "                   random_state = 222)\n",
    "    kmeans.fit(mtcars_X)\n",
    "    wcss.append(kmeans.inertia_)\n",
    "print(wcss)\n",
    "\n",
    "fig, ax = plt.subplots(figsize=(6,5))\n",
    "plt.plot(range(1,7), \n",
    "         wcss, linestyle='--', \n",
    "         marker='o', \n",
    "         label='WCSS value')\n",
    "plt.title('WCSS Value: Elbow method')\n",
    "plt.xlabel('# of clusters: K value')\n",
    "plt.ylabel('WCSS Value')\n",
    "plt.legend()\n",
    "plt.show()"
   ]
  },
  {
   "cell_type": "markdown",
   "metadata": {},
   "source": [
    "## Hierarchical Clustering"
   ]
  },
  {
   "cell_type": "markdown",
   "metadata": {},
   "source": [
    "This is another form of unsupervised learning type of cluster analysis, which takes on a more visual method, working particularly well with smaller samples (i.e., n < 500), such as this `mtcars` dataset. We start out with as many clusters as observations, and we go through a procedure of combining observations into clusters, culminating with combining clusters together as a reduction method for the total number of clusters that are present.\n",
    "\n",
    "Moreover, the premise for combining clusters together is a direct result of:\n",
    "\n",
    "**complete linkage** - largest Euclidean distance between clusters.  \n",
    "**single linkage** - conversely, we look at the observations which are closest together (proximity).  \n",
    "**centroid linkage** - we can the distance between the centroid of each cluster.    \n",
    "**group average (mean) linkage** - taking the mean between the pairwise distances of the observations.\n",
    "\n",
    "Complete linkage is the most traditional approach, so we parse in the `method='complete'` hyperparameter.\n",
    "\n",
    "The tree structure that examines this hierarchical structure is called a dendogram."
   ]
  },
  {
   "cell_type": "code",
   "execution_count": 98,
   "metadata": {},
   "outputs": [],
   "source": [
    "import scipy.cluster.hierarchy as shc"
   ]
  },
  {
   "cell_type": "code",
   "execution_count": 99,
   "metadata": {
    "scrolled": false
   },
   "outputs": [
    {
     "data": {
      "image/png": "[encoded data removed]",
      "text/plain": [
       "<Figure size 720x288 with 1 Axes>"
      ]
     },
     "metadata": {
      "needs_background": "light"
     },
     "output_type": "display_data"
    }
   ],
   "source": [
    "plt.figure(figsize=(10, 4))  \n",
    "dend = shc.dendrogram(shc.linkage(mtcars, method='complete'),\n",
    "                                  labels=list(mtcars.index))\n",
    "plt.title(\"Cluster Dendrogram\"); plt.xlabel('Hclust(\"complete\")')\n",
    "plt.ylabel('Height');plt.show()"
   ]
  },
  {
   "cell_type": "markdown",
   "metadata": {},
   "source": [
    "**Sources**\n",
    "\n",
    "finnstats. (2021, October 31). What Does Cross Validation Mean? R-bloggers.  \n",
    "<a href=\"https://www.r-bloggers.com/2021/10/cross-validation-in-r-with-example/\" style=\"text-decoration:none\">https://www.r-bloggers.com/2021/10/cross-validation-in-r-with-example/</a>\n",
    "\n",
    "[](https://www.r-bloggers.com/2021/10/cross-validation-in-r-with-example/)\n",
    "\n",
    "Garbade, Michael. (2018, September 12). Understanding K-means Clustering in  \n",
    "Machine Learning. Towards Data Science.  \n",
    "<a href=\"https://towardsdatascience.com/understanding-k-means-clustering-in-machine-learning-6a6e67336aa1 \" style=\"text-decoration:none\">https://towardsdatascience.com/understanding-k-means-clustering-in-machine  \n",
    "-learning-6a6e67336aa1 </a>\n",
    "\n",
    "GeeksforGeeks. (2020, April 22). Scope of Variable in R. GeeksforGeeks.  \n",
    "<a href=\"https://www.geeksforgeeks.org/scope-of-variable-in-r/\" style=\"text-decoration:none\">https://www.geeksforgeeks.org/scope-of-variable-in-r/</a>\n",
    "\n",
    "Shmueli, G., Bruce, P. C., Gedeck, P., & Patel, N. R. (2020). *Data mining for  \n",
    "business analytics: Concepts, techniques and applications in Python.* Wiley.\n"
   ]
  }
 ],
 "metadata": {
  "kernelspec": {
   "display_name": "Python 3",
   "language": "python",
   "name": "python3"
  },
  "language_info": {
   "codemirror_mode": {
    "name": "ipython",
    "version": 3
   },
   "file_extension": ".py",
   "mimetype": "text/x-python",
   "name": "python",
   "nbconvert_exporter": "python",
   "pygments_lexer": "ipython3",
   "version": "3.8.3"
  }
 },
 "nbformat": 4,
 "nbformat_minor": 4
}
